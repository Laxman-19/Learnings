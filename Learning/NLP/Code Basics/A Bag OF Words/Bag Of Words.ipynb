{
 "cells": [
  {
   "cell_type": "markdown",
   "id": "b062f314",
   "metadata": {},
   "source": [
    "<h2 align='center'>NLP Tutorial: Text Representation - Bag Of Words (BOW)</h2>"
   ]
  },
  {
   "cell_type": "code",
   "execution_count": 7,
   "id": "54f8d7a3",
   "metadata": {},
   "outputs": [],
   "source": [
    "import pandas as pd\n",
    "import numpy as np"
   ]
  },
  {
   "cell_type": "code",
   "execution_count": 8,
   "id": "e8912b1f",
   "metadata": {},
   "outputs": [
    {
     "data": {
      "text/html": [
       "<div>\n",
       "<style scoped>\n",
       "    .dataframe tbody tr th:only-of-type {\n",
       "        vertical-align: middle;\n",
       "    }\n",
       "\n",
       "    .dataframe tbody tr th {\n",
       "        vertical-align: top;\n",
       "    }\n",
       "\n",
       "    .dataframe thead th {\n",
       "        text-align: right;\n",
       "    }\n",
       "</style>\n",
       "<table border=\"1\" class=\"dataframe\">\n",
       "  <thead>\n",
       "    <tr style=\"text-align: right;\">\n",
       "      <th></th>\n",
       "      <th>Category</th>\n",
       "      <th>Message</th>\n",
       "    </tr>\n",
       "  </thead>\n",
       "  <tbody>\n",
       "    <tr>\n",
       "      <th>0</th>\n",
       "      <td>ham</td>\n",
       "      <td>Go until jurong point, crazy.. Available only ...</td>\n",
       "    </tr>\n",
       "    <tr>\n",
       "      <th>1</th>\n",
       "      <td>ham</td>\n",
       "      <td>Ok lar... Joking wif u oni...</td>\n",
       "    </tr>\n",
       "    <tr>\n",
       "      <th>2</th>\n",
       "      <td>spam</td>\n",
       "      <td>Free entry in 2 a wkly comp to win FA Cup fina...</td>\n",
       "    </tr>\n",
       "    <tr>\n",
       "      <th>3</th>\n",
       "      <td>ham</td>\n",
       "      <td>U dun say so early hor... U c already then say...</td>\n",
       "    </tr>\n",
       "    <tr>\n",
       "      <th>4</th>\n",
       "      <td>ham</td>\n",
       "      <td>Nah I don't think he goes to usf, he lives aro...</td>\n",
       "    </tr>\n",
       "  </tbody>\n",
       "</table>\n",
       "</div>"
      ],
      "text/plain": [
       "  Category                                            Message\n",
       "0      ham  Go until jurong point, crazy.. Available only ...\n",
       "1      ham                      Ok lar... Joking wif u oni...\n",
       "2     spam  Free entry in 2 a wkly comp to win FA Cup fina...\n",
       "3      ham  U dun say so early hor... U c already then say...\n",
       "4      ham  Nah I don't think he goes to usf, he lives aro..."
      ]
     },
     "execution_count": 8,
     "metadata": {},
     "output_type": "execute_result"
    }
   ],
   "source": [
    "df = pd.read_csv(\"spam.csv\")\n",
    "df.head()"
   ]
  },
  {
   "cell_type": "code",
   "execution_count": 9,
   "id": "e56ef7dd",
   "metadata": {},
   "outputs": [
    {
     "data": {
      "text/plain": [
       "array(['ham', 'spam'], dtype=object)"
      ]
     },
     "execution_count": 9,
     "metadata": {},
     "output_type": "execute_result"
    }
   ],
   "source": [
    "df['Category'].unique()"
   ]
  },
  {
   "cell_type": "code",
   "execution_count": 10,
   "id": "e4f5ae86",
   "metadata": {},
   "outputs": [
    {
     "data": {
      "text/plain": [
       "ham     4825\n",
       "spam     747\n",
       "Name: Category, dtype: int64"
      ]
     },
     "execution_count": 10,
     "metadata": {},
     "output_type": "execute_result"
    }
   ],
   "source": [
    "df.Category.value_counts()"
   ]
  },
  {
   "cell_type": "code",
   "execution_count": 11,
   "id": "21a31057",
   "metadata": {},
   "outputs": [],
   "source": [
    "# def get_spam_number(x):\n",
    "#     if x == 'spam':\n",
    "#         return 1\n",
    "#     else:\n",
    "#         return 0\n",
    "# \n",
    "# df['spam'] = df['Category'].apply(get_spam_number)\n",
    "\n",
    "df['spam'] = df['Category'].apply(lambda x: 1 if x =='spam' else 0)"
   ]
  },
  {
   "cell_type": "code",
   "execution_count": 12,
   "id": "6b665e00",
   "metadata": {},
   "outputs": [
    {
     "data": {
      "text/plain": [
       "(5572, 3)"
      ]
     },
     "execution_count": 12,
     "metadata": {},
     "output_type": "execute_result"
    }
   ],
   "source": [
    "df.shape"
   ]
  },
  {
   "cell_type": "code",
   "execution_count": 13,
   "id": "0fdd3b0c",
   "metadata": {
    "scrolled": true
   },
   "outputs": [
    {
     "data": {
      "text/html": [
       "<div>\n",
       "<style scoped>\n",
       "    .dataframe tbody tr th:only-of-type {\n",
       "        vertical-align: middle;\n",
       "    }\n",
       "\n",
       "    .dataframe tbody tr th {\n",
       "        vertical-align: top;\n",
       "    }\n",
       "\n",
       "    .dataframe thead th {\n",
       "        text-align: right;\n",
       "    }\n",
       "</style>\n",
       "<table border=\"1\" class=\"dataframe\">\n",
       "  <thead>\n",
       "    <tr style=\"text-align: right;\">\n",
       "      <th></th>\n",
       "      <th>Category</th>\n",
       "      <th>Message</th>\n",
       "      <th>spam</th>\n",
       "    </tr>\n",
       "  </thead>\n",
       "  <tbody>\n",
       "    <tr>\n",
       "      <th>0</th>\n",
       "      <td>ham</td>\n",
       "      <td>Go until jurong point, crazy.. Available only ...</td>\n",
       "      <td>0</td>\n",
       "    </tr>\n",
       "    <tr>\n",
       "      <th>1</th>\n",
       "      <td>ham</td>\n",
       "      <td>Ok lar... Joking wif u oni...</td>\n",
       "      <td>0</td>\n",
       "    </tr>\n",
       "    <tr>\n",
       "      <th>2</th>\n",
       "      <td>spam</td>\n",
       "      <td>Free entry in 2 a wkly comp to win FA Cup fina...</td>\n",
       "      <td>1</td>\n",
       "    </tr>\n",
       "    <tr>\n",
       "      <th>3</th>\n",
       "      <td>ham</td>\n",
       "      <td>U dun say so early hor... U c already then say...</td>\n",
       "      <td>0</td>\n",
       "    </tr>\n",
       "    <tr>\n",
       "      <th>4</th>\n",
       "      <td>ham</td>\n",
       "      <td>Nah I don't think he goes to usf, he lives aro...</td>\n",
       "      <td>0</td>\n",
       "    </tr>\n",
       "  </tbody>\n",
       "</table>\n",
       "</div>"
      ],
      "text/plain": [
       "  Category                                            Message  spam\n",
       "0      ham  Go until jurong point, crazy.. Available only ...     0\n",
       "1      ham                      Ok lar... Joking wif u oni...     0\n",
       "2     spam  Free entry in 2 a wkly comp to win FA Cup fina...     1\n",
       "3      ham  U dun say so early hor... U c already then say...     0\n",
       "4      ham  Nah I don't think he goes to usf, he lives aro...     0"
      ]
     },
     "execution_count": 13,
     "metadata": {},
     "output_type": "execute_result"
    }
   ],
   "source": [
    "df.head()"
   ]
  },
  {
   "cell_type": "code",
   "execution_count": 23,
   "id": "b2e24262",
   "metadata": {},
   "outputs": [
    {
     "data": {
      "text/html": [
       "<div>\n",
       "<style scoped>\n",
       "    .dataframe tbody tr th:only-of-type {\n",
       "        vertical-align: middle;\n",
       "    }\n",
       "\n",
       "    .dataframe tbody tr th {\n",
       "        vertical-align: top;\n",
       "    }\n",
       "\n",
       "    .dataframe thead th {\n",
       "        text-align: right;\n",
       "    }\n",
       "</style>\n",
       "<table border=\"1\" class=\"dataframe\">\n",
       "  <thead>\n",
       "    <tr style=\"text-align: right;\">\n",
       "      <th></th>\n",
       "      <th>Category</th>\n",
       "      <th>Message</th>\n",
       "      <th>spam</th>\n",
       "    </tr>\n",
       "  </thead>\n",
       "  <tbody>\n",
       "    <tr>\n",
       "      <th>3</th>\n",
       "      <td>ham</td>\n",
       "      <td>U dun say so early hor... U c already then say...</td>\n",
       "      <td>0</td>\n",
       "    </tr>\n",
       "    <tr>\n",
       "      <th>4</th>\n",
       "      <td>ham</td>\n",
       "      <td>Nah I don't think he goes to usf, he lives aro...</td>\n",
       "      <td>0</td>\n",
       "    </tr>\n",
       "    <tr>\n",
       "      <th>5</th>\n",
       "      <td>spam</td>\n",
       "      <td>FreeMsg Hey there darling it's been 3 week's n...</td>\n",
       "      <td>1</td>\n",
       "    </tr>\n",
       "  </tbody>\n",
       "</table>\n",
       "</div>"
      ],
      "text/plain": [
       "  Category                                            Message  spam\n",
       "3      ham  U dun say so early hor... U c already then say...     0\n",
       "4      ham  Nah I don't think he goes to usf, he lives aro...     0\n",
       "5     spam  FreeMsg Hey there darling it's been 3 week's n...     1"
      ]
     },
     "execution_count": 23,
     "metadata": {},
     "output_type": "execute_result"
    }
   ],
   "source": [
    "df[3:6]"
   ]
  },
  {
   "cell_type": "markdown",
   "id": "c14da82f",
   "metadata": {},
   "source": [
    "<h3>Train test split</h3>"
   ]
  },
  {
   "cell_type": "code",
   "execution_count": 14,
   "id": "55c57d7e",
   "metadata": {},
   "outputs": [],
   "source": [
    "from sklearn.model_selection import train_test_split\n",
    "\n",
    "X_train, X_test, y_train, y_test = train_test_split(df.Message, df.spam, test_size=0.2)"
   ]
  },
  {
   "cell_type": "code",
   "execution_count": 25,
   "id": "94d1bf92",
   "metadata": {},
   "outputs": [
    {
     "data": {
      "text/plain": [
       "3737    Hows the street where the end of library walk is?\n",
       "4961            I want  &lt;#&gt;  rs da:)do you have it?\n",
       "4556    7 wonders in My WORLD 7th You 6th Ur style 5th...\n",
       "602     If u sending her home first it's ok lor. I'm n...\n",
       "1165    Well. Im computerless. Time to make some oreo ...\n",
       "                              ...                        \n",
       "1841    Yeah. I got a list with only u and Joanna if I...\n",
       "4127    SPJanuary Male Sale! Hot Gay chat now cheaper,...\n",
       "3099             This is all just creepy and crazy to me.\n",
       "4817    Anything is valuable in only 2 situations: Fir...\n",
       "2077            Trust me. Even if isn't there, its there.\n",
       "Name: Message, Length: 4457, dtype: object"
      ]
     },
     "execution_count": 25,
     "metadata": {},
     "output_type": "execute_result"
    }
   ],
   "source": [
    "X_train"
   ]
  },
  {
   "cell_type": "code",
   "execution_count": 15,
   "id": "0c434635",
   "metadata": {},
   "outputs": [
    {
     "data": {
      "text/plain": [
       "(4457,)"
      ]
     },
     "execution_count": 15,
     "metadata": {},
     "output_type": "execute_result"
    }
   ],
   "source": [
    "X_train.shape"
   ]
  },
  {
   "cell_type": "code",
   "execution_count": 17,
   "id": "0322e41b",
   "metadata": {},
   "outputs": [
    {
     "data": {
      "text/plain": [
       "(1115,)"
      ]
     },
     "execution_count": 17,
     "metadata": {},
     "output_type": "execute_result"
    }
   ],
   "source": [
    "X_test.shape"
   ]
  },
  {
   "cell_type": "code",
   "execution_count": 18,
   "id": "2b8afdd0",
   "metadata": {},
   "outputs": [
    {
     "data": {
      "text/plain": [
       "pandas.core.series.Series"
      ]
     },
     "execution_count": 18,
     "metadata": {},
     "output_type": "execute_result"
    }
   ],
   "source": [
    "type(X_train)"
   ]
  },
  {
   "cell_type": "code",
   "execution_count": 19,
   "id": "4c31562f",
   "metadata": {},
   "outputs": [
    {
     "data": {
      "text/plain": [
       "3737    Hows the street where the end of library walk is?\n",
       "4961            I want  &lt;#&gt;  rs da:)do you have it?\n",
       "4556    7 wonders in My WORLD 7th You 6th Ur style 5th...\n",
       "602     If u sending her home first it's ok lor. I'm n...\n",
       "Name: Message, dtype: object"
      ]
     },
     "execution_count": 19,
     "metadata": {},
     "output_type": "execute_result"
    }
   ],
   "source": [
    "X_train[:4]"
   ]
  },
  {
   "cell_type": "code",
   "execution_count": 25,
   "id": "425d18a6",
   "metadata": {},
   "outputs": [
    {
     "data": {
      "text/plain": [
       "pandas.core.series.Series"
      ]
     },
     "execution_count": 25,
     "metadata": {},
     "output_type": "execute_result"
    }
   ],
   "source": [
    "type(y_train)"
   ]
  },
  {
   "cell_type": "code",
   "execution_count": 30,
   "id": "0a441180",
   "metadata": {},
   "outputs": [
    {
     "data": {
      "text/plain": [
       "2169    0\n",
       "99      0\n",
       "4882    0\n",
       "744     0\n",
       "Name: spam, dtype: int64"
      ]
     },
     "execution_count": 30,
     "metadata": {},
     "output_type": "execute_result"
    }
   ],
   "source": [
    "y_train[:4]"
   ]
  },
  {
   "cell_type": "code",
   "execution_count": 28,
   "id": "0144b67b",
   "metadata": {
    "scrolled": true
   },
   "outputs": [
    {
     "data": {
      "text/plain": [
       "numpy.ndarray"
      ]
     },
     "execution_count": 28,
     "metadata": {},
     "output_type": "execute_result"
    }
   ],
   "source": [
    "type(X_train.values)"
   ]
  },
  {
   "cell_type": "markdown",
   "id": "b7d2c01f",
   "metadata": {},
   "source": [
    "<h3>Create bag of words representation using CountVectorizer</h3>"
   ]
  },
  {
   "cell_type": "code",
   "execution_count": 33,
   "id": "1300879f",
   "metadata": {},
   "outputs": [
    {
     "data": {
      "text/plain": [
       "'Hows the street where the end of library walk is?'"
      ]
     },
     "execution_count": 33,
     "metadata": {},
     "output_type": "execute_result"
    }
   ],
   "source": [
    "a = X_train.values\n",
    "a[0]"
   ]
  },
  {
   "cell_type": "code",
   "execution_count": 35,
   "id": "41a212bd",
   "metadata": {},
   "outputs": [
    {
     "data": {
      "text/plain": [
       "array([[0, 0, 0, ..., 0, 0, 0],\n",
       "       [0, 0, 0, ..., 0, 0, 0],\n",
       "       [0, 0, 0, ..., 0, 0, 0],\n",
       "       ...,\n",
       "       [0, 0, 0, ..., 0, 0, 0],\n",
       "       [0, 0, 0, ..., 0, 0, 0],\n",
       "       [0, 0, 0, ..., 0, 0, 0]], dtype=int64)"
      ]
     },
     "execution_count": 35,
     "metadata": {},
     "output_type": "execute_result"
    }
   ],
   "source": [
    "from sklearn.feature_extraction.text import CountVectorizer\n",
    "\n",
    "v = CountVectorizer()\n",
    "\n",
    "X_train_cv = v.fit_transform(X_train.values)\n",
    "X_train_cv\n",
    "\n",
    "X_train_cv.toarray()\n"
   ]
  },
  {
   "cell_type": "code",
   "execution_count": 44,
   "id": "30a01ec3",
   "metadata": {},
   "outputs": [
    {
     "data": {
      "text/plain": [
       "array([0, 0, 0, ..., 0, 0, 0], dtype=int64)"
      ]
     },
     "execution_count": 44,
     "metadata": {},
     "output_type": "execute_result"
    }
   ],
   "source": [
    "X_train_cv.toarray()[:2][0]"
   ]
  },
  {
   "cell_type": "code",
   "execution_count": 45,
   "id": "e3846715",
   "metadata": {},
   "outputs": [
    {
     "data": {
      "text/plain": [
       "(4457, 7719)"
      ]
     },
     "execution_count": 45,
     "metadata": {},
     "output_type": "execute_result"
    }
   ],
   "source": [
    "X_train_cv.shape"
   ]
  },
  {
   "cell_type": "code",
   "execution_count": 58,
   "id": "eb785943",
   "metadata": {
    "scrolled": true
   },
   "outputs": [
    {
     "data": {
      "text/plain": [
       "['__annotations__',\n",
       " '__class__',\n",
       " '__delattr__',\n",
       " '__dict__',\n",
       " '__dir__',\n",
       " '__doc__',\n",
       " '__eq__',\n",
       " '__format__',\n",
       " '__ge__',\n",
       " '__getattribute__',\n",
       " '__getstate__',\n",
       " '__gt__',\n",
       " '__hash__',\n",
       " '__init__',\n",
       " '__init_subclass__',\n",
       " '__le__',\n",
       " '__lt__',\n",
       " '__module__',\n",
       " '__ne__',\n",
       " '__new__',\n",
       " '__reduce__',\n",
       " '__reduce_ex__',\n",
       " '__repr__',\n",
       " '__setattr__',\n",
       " '__setstate__',\n",
       " '__sizeof__',\n",
       " '__str__',\n",
       " '__subclasshook__',\n",
       " '__weakref__',\n",
       " '_char_ngrams',\n",
       " '_char_wb_ngrams',\n",
       " '_check_feature_names',\n",
       " '_check_n_features',\n",
       " '_check_stop_words_consistency',\n",
       " '_check_vocabulary',\n",
       " '_count_vocab',\n",
       " '_get_param_names',\n",
       " '_get_tags',\n",
       " '_limit_features',\n",
       " '_more_tags',\n",
       " '_parameter_constraints',\n",
       " '_repr_html_',\n",
       " '_repr_html_inner',\n",
       " '_repr_mimebundle_',\n",
       " '_sort_features',\n",
       " '_stop_words_id',\n",
       " '_validate_data',\n",
       " '_validate_ngram_range',\n",
       " '_validate_params',\n",
       " '_validate_vocabulary',\n",
       " '_warn_for_unused_params',\n",
       " '_white_spaces',\n",
       " '_word_ngrams',\n",
       " 'analyzer',\n",
       " 'binary',\n",
       " 'build_analyzer',\n",
       " 'build_preprocessor',\n",
       " 'build_tokenizer',\n",
       " 'decode',\n",
       " 'decode_error',\n",
       " 'dtype',\n",
       " 'encoding',\n",
       " 'fit',\n",
       " 'fit_transform',\n",
       " 'fixed_vocabulary_',\n",
       " 'get_feature_names_out',\n",
       " 'get_params',\n",
       " 'get_stop_words',\n",
       " 'input',\n",
       " 'inverse_transform',\n",
       " 'lowercase',\n",
       " 'max_df',\n",
       " 'max_features',\n",
       " 'min_df',\n",
       " 'ngram_range',\n",
       " 'preprocessor',\n",
       " 'set_params',\n",
       " 'stop_words',\n",
       " 'stop_words_',\n",
       " 'strip_accents',\n",
       " 'token_pattern',\n",
       " 'tokenizer',\n",
       " 'transform',\n",
       " 'vocabulary',\n",
       " 'vocabulary_']"
      ]
     },
     "execution_count": 58,
     "metadata": {},
     "output_type": "execute_result"
    }
   ],
   "source": [
    "dir(v)"
   ]
  },
  {
   "cell_type": "code",
   "execution_count": 75,
   "id": "12f55cc1",
   "metadata": {},
   "outputs": [
    {
     "data": {
      "text/plain": [
       "'of'"
      ]
     },
     "execution_count": 75,
     "metadata": {},
     "output_type": "execute_result"
    }
   ],
   "source": [
    "v.get_feature_names_out()[4873]"
   ]
  },
  {
   "cell_type": "code",
   "execution_count": 47,
   "id": "7ed0a094",
   "metadata": {},
   "outputs": [
    {
     "data": {
      "text/plain": [
       "{'hows': 3529,\n",
       " 'the': 6786,\n",
       " 'street': 6482,\n",
       " 'where': 7459,\n",
       " 'end': 2600,\n",
       " 'of': 4873,\n",
       " 'library': 4105,\n",
       " 'walk': 7334,\n",
       " 'is': 3758,\n",
       " 'want': 7351,\n",
       " 'lt': 4256,\n",
       " 'gt': 3268,\n",
       " 'rs': 5813,\n",
       " 'da': 2158,\n",
       " 'do': 2385,\n",
       " 'you': 7679,\n",
       " 'have': 3358,\n",
       " 'it': 3770,\n",
       " 'wonders': 7555,\n",
       " 'in': 3647,\n",
       " 'my': 4656,\n",
       " 'world': 7574,\n",
       " '7th': 639,\n",
       " '6th': 615,\n",
       " 'ur': 7177,\n",
       " 'style': 6516,\n",
       " '5th': 573,\n",
       " 'smile': 6226,\n",
       " '4th': 534,\n",
       " 'personality': 5141,\n",
       " '3rd': 473,\n",
       " 'nature': 4693,\n",
       " '2nd': 406,\n",
       " 'sms': 6236,\n",
       " 'and': 975,\n",
       " '1st': 335,\n",
       " 'lovely': 4237,\n",
       " 'friendship': 3012,\n",
       " 'good': 3196,\n",
       " 'morning': 4578,\n",
       " 'dear': 2212,\n",
       " 'if': 3606,\n",
       " 'sending': 5991,\n",
       " 'her': 3414,\n",
       " 'home': 3477,\n",
       " 'first': 2879,\n",
       " 'ok': 4896,\n",
       " 'lor': 4215,\n",
       " 'not': 4814,\n",
       " 'ready': 5570,\n",
       " 'yet': 7668,\n",
       " 'well': 7427,\n",
       " 'im': 3623,\n",
       " 'computerless': 1962,\n",
       " 'time': 6871,\n",
       " 'to': 6905,\n",
       " 'make': 4327,\n",
       " 'some': 6269,\n",
       " 'oreo': 4967,\n",
       " 'truffles': 7028,\n",
       " 'nt': 4835,\n",
       " 'chikku': 1802,\n",
       " 'simple': 6143,\n",
       " 'habba': 3294,\n",
       " 'hw': 3573,\n",
       " 'abt': 771,\n",
       " 'said': 5852,\n",
       " 'kiss': 3958,\n",
       " 'can': 1650,\n",
       " 'sound': 6312,\n",
       " 'effects': 2554,\n",
       " 'he': 3368,\n",
       " 'gorgeous': 3208,\n",
       " 'man': 4336,\n",
       " 'isn': 3765,\n",
       " 'kind': 3950,\n",
       " 'person': 5138,\n",
       " 'who': 7471,\n",
       " 'needs': 4717,\n",
       " 'brighten': 1526,\n",
       " 'his': 3441,\n",
       " 'day': 2200,\n",
       " 'll': 4171,\n",
       " 'get': 3130,\n",
       " 'there': 6804,\n",
       " 'at': 1129,\n",
       " 'unless': 7143,\n",
       " 'guys': 3289,\n",
       " 'me': 4404,\n",
       " 'come': 1924,\n",
       " 'sooner': 6296,\n",
       " 'hi': 3426,\n",
       " 'its': 3777,\n",
       " 'are': 1062,\n",
       " 'probably': 5402,\n",
       " 'having': 3363,\n",
       " 'too': 6944,\n",
       " 'much': 4623,\n",
       " 'fun': 3049,\n",
       " 'this': 6827,\n",
       " 'message': 4447,\n",
       " 'but': 1597,\n",
       " 'thought': 6839,\n",
       " 'id': 3595,\n",
       " 'txt': 7069,\n",
       " 'cos': 2038,\n",
       " 'bored': 1458,\n",
       " 'james': 3799,\n",
       " 'has': 3346,\n",
       " 'been': 1306,\n",
       " 'farting': 2785,\n",
       " 'all': 923,\n",
       " 'night': 4763,\n",
       " 'what': 7448,\n",
       " 'makes': 4328,\n",
       " 'most': 4583,\n",
       " 'happy': 3336,\n",
       " 'yun': 7700,\n",
       " 'ah': 881,\n",
       " 'now': 4828,\n",
       " 'wkg': 7533,\n",
       " 'btw': 1561,\n",
       " 'go': 3173,\n",
       " 'nus': 4846,\n",
       " 'sc': 5908,\n",
       " 'wana': 7348,\n",
       " 'specialise': 6337,\n",
       " 'wad': 7319,\n",
       " 'still': 6451,\n",
       " 'customer': 2144,\n",
       " 'place': 5207,\n",
       " 'right': 5759,\n",
       " 'second': 5952,\n",
       " 'gotta': 3216,\n",
       " 'hit': 3443,\n",
       " 'people': 5118,\n",
       " 'up': 7159,\n",
       " 'by': 1610,\n",
       " 'monday': 4556,\n",
       " 'next': 4752,\n",
       " 'week': 7411,\n",
       " 'give': 3156,\n",
       " 'full': 3046,\n",
       " 'gist': 3154,\n",
       " 'don': 2419,\n",
       " 'run': 5829,\n",
       " 'away': 1180,\n",
       " 'frm': 3016,\n",
       " 'slowly': 6212,\n",
       " 'amp': 962,\n",
       " 'kills': 3948,\n",
       " 'that': 6782,\n",
       " 'care': 1672,\n",
       " 'enough': 2622,\n",
       " 'stop': 6462,\n",
       " 'doing': 2409,\n",
       " 'yuou': 7702,\n",
       " 'working': 7571,\n",
       " 'on': 4914,\n",
       " 'getting': 3137,\n",
       " 'pc': 5104,\n",
       " 'your': 7684,\n",
       " 'mom': 4551,\n",
       " 'did': 2318,\n",
       " 'find': 2862,\n",
       " 'spot': 6373,\n",
       " 'would': 7589,\n",
       " 'work': 7567,\n",
       " 'need': 4712,\n",
       " 'going': 3184,\n",
       " 'mall': 4334,\n",
       " 'take': 6658,\n",
       " 'sleep': 6190,\n",
       " 'learn': 4066,\n",
       " 'change': 1742,\n",
       " 'life': 4111,\n",
       " 'only': 4924,\n",
       " 'convinced': 2018,\n",
       " 'will': 7491,\n",
       " 'wait': 7326,\n",
       " 'no': 4781,\n",
       " 'more': 4574,\n",
       " 'conversations': 2014,\n",
       " 'between': 1350,\n",
       " 'us': 7191,\n",
       " 'family': 2775,\n",
       " 'over': 5004,\n",
       " 'for': 2944,\n",
       " 'many': 4352,\n",
       " 'senses': 5996,\n",
       " 'respect': 5717,\n",
       " 'them': 6794,\n",
       " 'overemphasise': 5007,\n",
       " 'or': 4955,\n",
       " 'role': 5789,\n",
       " 'hey': 3422,\n",
       " 'glad': 3160,\n",
       " 'better': 1347,\n",
       " 'hear': 3380,\n",
       " 'treated': 7007,\n",
       " 'urself': 7190,\n",
       " 'digi': 2332,\n",
       " 'cam': 1643,\n",
       " 'we': 7390,\n",
       " 'off': 4875,\n",
       " '9pm': 745,\n",
       " 'fab': 2751,\n",
       " 'new': 4745,\n",
       " 'year': 7656,\n",
       " 'coupla': 2053,\n",
       " 'wks': 7536,\n",
       " 'bloody': 1418,\n",
       " 'hell': 3397,\n",
       " 'cant': 1660,\n",
       " 'believe': 1323,\n",
       " 'forgot': 2955,\n",
       " 'surname': 6601,\n",
       " 'mr': 4602,\n",
       " 'ill': 3619,\n",
       " 'clue': 1882,\n",
       " 'spanish': 6327,\n",
       " 'begins': 1316,\n",
       " 'with': 7521,\n",
       " 'bold': 1437,\n",
       " 'yours': 7688,\n",
       " 'urgent': 7181,\n",
       " 'trying': 7035,\n",
       " 'contact': 2000,\n",
       " 'todays': 6912,\n",
       " 'draw': 2454,\n",
       " 'shows': 6113,\n",
       " 'won': 7549,\n",
       " '800': 643,\n",
       " 'prize': 5398,\n",
       " 'guaranteed': 3272,\n",
       " 'call': 1625,\n",
       " '09050001295': 168,\n",
       " 'from': 3027,\n",
       " 'land': 4013,\n",
       " 'line': 4136,\n",
       " 'claim': 1840,\n",
       " 'a21': 749,\n",
       " 'valid': 7220,\n",
       " '12hrs': 290,\n",
       " 'darlin': 2183,\n",
       " 'way': 7386,\n",
       " 'london': 4199,\n",
       " 'just': 3887,\n",
       " 'smashed': 6221,\n",
       " 'into': 3724,\n",
       " 'another': 992,\n",
       " 'driver': 2469,\n",
       " 'big': 1364,\n",
       " 'dent': 2261,\n",
       " 'really': 5580,\n",
       " 'missing': 4502,\n",
       " 'xxx': 7632,\n",
       " 'yeah': 7655,\n",
       " 'imagine': 3625,\n",
       " 'be': 1283,\n",
       " 'gentle': 3120,\n",
       " 'unlike': 7144,\n",
       " 'other': 4980,\n",
       " 'docs': 2391,\n",
       " 'treat': 7006,\n",
       " 'their': 6792,\n",
       " 'patients': 5089,\n",
       " 'like': 4122,\n",
       " 'turkeys': 7052,\n",
       " 'god': 3178,\n",
       " 'bless': 1404,\n",
       " 'pray': 5346,\n",
       " 'voucher': 7303,\n",
       " 'holder': 3469,\n",
       " 'class': 1849,\n",
       " 'airport': 894,\n",
       " 'lounge': 4230,\n",
       " 'passes': 5079,\n",
       " 'when': 7455,\n",
       " 'using': 7202,\n",
       " 'holiday': 3472,\n",
       " '08704439680': 86,\n",
       " 'booking': 1449,\n",
       " 'quote': 5513,\n",
       " 'running': 5830,\n",
       " 'managed': 4339,\n",
       " 'minutes': 4489,\n",
       " 'then': 6798,\n",
       " 'needed': 4714,\n",
       " 'oxygen': 5019,\n",
       " 'might': 4464,\n",
       " 'resort': 5716,\n",
       " 'roller': 5792,\n",
       " 'option': 4953,\n",
       " 'sure': 6595,\n",
       " 'they': 6812,\n",
       " 'understand': 7122,\n",
       " 'wine': 7500,\n",
       " 'idea': 3597,\n",
       " 'had': 3297,\n",
       " 'slurp': 6214,\n",
       " 'update_now': 7164,\n",
       " '12mths': 291,\n",
       " 'half': 3308,\n",
       " 'price': 5382,\n",
       " 'orange': 4959,\n",
       " 'rental': 5679,\n",
       " '400mins': 481,\n",
       " 'mobileupd8': 4536,\n",
       " '08000839402': 53,\n",
       " 'call2optout': 1627,\n",
       " 'j5q': 3788,\n",
       " 'dunno': 2502,\n",
       " 'lei': 4082,\n",
       " 'decide': 2221,\n",
       " 'how': 3524,\n",
       " 'leona': 4089,\n",
       " 'oops': 4934,\n",
       " 'tot': 6966,\n",
       " 'ben': 1334,\n",
       " 'msg': 4606,\n",
       " 'him': 3435,\n",
       " 'neva': 4739,\n",
       " 'mind': 4474,\n",
       " 'freemsg': 2994,\n",
       " 'why': 7479,\n",
       " 'haven': 3359,\n",
       " 'replied': 5689,\n",
       " 'text': 6757,\n",
       " 'randy': 5539,\n",
       " 'sexy': 6026,\n",
       " 'female': 2821,\n",
       " 'live': 4164,\n",
       " 'local': 4181,\n",
       " 'luv': 4270,\n",
       " 'netcollex': 4731,\n",
       " 'ltd': 4257,\n",
       " '08700621170150p': 75,\n",
       " 'per': 5120,\n",
       " 'reply': 5691,\n",
       " 'nice': 4756,\n",
       " 'sry': 6391,\n",
       " 'jst': 3871,\n",
       " 'nw': 4852,\n",
       " 'came': 1645,\n",
       " 'thats': 6785,\n",
       " 'cool': 2024,\n",
       " 'liked': 4123,\n",
       " 'photos': 5173,\n",
       " 'very': 7252,\n",
       " 'am': 945,\n",
       " 'about': 765,\n",
       " 'menu': 4440,\n",
       " 'know': 3968,\n",
       " 'noon': 4799,\n",
       " 'problem': 5403,\n",
       " 'yup': 7703,\n",
       " 'sch': 5916,\n",
       " 'rem': 5656,\n",
       " 'correctly': 2036,\n",
       " 'dependents': 2269,\n",
       " 'aight': 889,\n",
       " 'should': 6099,\n",
       " 'latest': 4036,\n",
       " 'closer': 1869,\n",
       " 'jay': 3811,\n",
       " 'tyler': 7081,\n",
       " 'down': 2441,\n",
       " 'two': 7067,\n",
       " 'trips': 7017,\n",
       " 'sent': 5999,\n",
       " 'maga': 4311,\n",
       " 'money': 4558,\n",
       " 'yesterday': 7667,\n",
       " 'oh': 4892,\n",
       " 'always': 943,\n",
       " 'chat': 1761,\n",
       " 'fact': 2756,\n",
       " 'raise': 5524,\n",
       " 'send': 5989,\n",
       " 'email': 2585,\n",
       " 'times': 6872,\n",
       " 'sorry': 6302,\n",
       " 'stil': 6450,\n",
       " 'fucked': 3037,\n",
       " 'after': 862,\n",
       " 'last': 4030,\n",
       " 'nite': 4774,\n",
       " 'went': 7433,\n",
       " 'tobed': 6908,\n",
       " '430': 494,\n",
       " 'got': 3210,\n",
       " '630': 587,\n",
       " 'painting': 5034,\n",
       " 'wall': 7340,\n",
       " 'holla': 3473,\n",
       " 'later': 4035,\n",
       " 'tried': 7014,\n",
       " 're': 5560,\n",
       " 'our': 4987,\n",
       " 'offer': 4879,\n",
       " '750': 624,\n",
       " 'mins': 4485,\n",
       " '150': 304,\n",
       " 'textand': 6759,\n",
       " 'video': 7262,\n",
       " 'phone': 5166,\n",
       " '08002988890': 59,\n",
       " 'free': 2988,\n",
       " 'delivery': 2254,\n",
       " 'tomorrow': 6932,\n",
       " 'tick': 6860,\n",
       " 'babe': 1198,\n",
       " 'was': 7364,\n",
       " 'callin': 1637,\n",
       " 'say': 5902,\n",
       " 'bruv': 1554,\n",
       " 'pls': 5236,\n",
       " 'she': 6050,\n",
       " 'dat': 2190,\n",
       " 'vomit': 7300,\n",
       " 'found': 2971,\n",
       " 'dis': 2351,\n",
       " 'pierre': 5191,\n",
       " 'cardin': 1670,\n",
       " 'one': 4918,\n",
       " 'which': 7465,\n",
       " 'looks': 4209,\n",
       " 'normal': 4808,\n",
       " 'costs': 2042,\n",
       " '20': 345,\n",
       " 'sale': 5857,\n",
       " 'so': 6254,\n",
       " 'dad': 2161,\n",
       " 'gonna': 3194,\n",
       " 'gets': 3133,\n",
       " 'out': 4990,\n",
       " 'ask': 1105,\n",
       " 'these': 6806,\n",
       " 'crazy': 2078,\n",
       " 'questions': 5502,\n",
       " 'tone': 6933,\n",
       " 'club': 1876,\n",
       " 'subs': 6526,\n",
       " 'expired': 2732,\n",
       " 'sub': 6520,\n",
       " 'monoc': 4564,\n",
       " 'monos': 4565,\n",
       " 'polyc': 5273,\n",
       " 'polys': 5277,\n",
       " 'weekly': 7414,\n",
       " '150p': 306,\n",
       " 'stream': 6481,\n",
       " '0871212025016': 100,\n",
       " 'any': 1006,\n",
       " 'tonight': 6939,\n",
       " 'whenever': 7456,\n",
       " 'around': 1081,\n",
       " 'registered': 5639,\n",
       " 'sinco': 6149,\n",
       " 'as': 1096,\n",
       " 'payee': 5099,\n",
       " 'log': 4188,\n",
       " 'icicibank': 3591,\n",
       " 'com': 1918,\n",
       " 'enter': 2624,\n",
       " 'urn': 7189,\n",
       " 'confirm': 1979,\n",
       " 'beware': 1352,\n",
       " 'frauds': 2984,\n",
       " 'share': 6045,\n",
       " 'disclose': 2356,\n",
       " 'anyone': 1010,\n",
       " 'check': 1771,\n",
       " 'bowls': 1475,\n",
       " 'worth': 7583,\n",
       " 'left': 4076,\n",
       " 'finish': 2866,\n",
       " 'wanna': 7349,\n",
       " 'spend': 6349,\n",
       " 'evening': 2675,\n",
       " 'vewy': 7254,\n",
       " 'lubly': 4259,\n",
       " 'love': 4234,\n",
       " 'ain': 890,\n",
       " 'answerin': 997,\n",
       " 'actually': 814,\n",
       " 'pretty': 5377,\n",
       " 'reasonable': 5586,\n",
       " 'hour': 3517,\n",
       " 'sleepy': 6196,\n",
       " 'gal': 3073,\n",
       " 'boy': 1490,\n",
       " 'walking': 7338,\n",
       " 'park': 5062,\n",
       " 'hold': 3468,\n",
       " 'hand': 3317,\n",
       " 'think': 6818,\n",
       " 'feels': 2815,\n",
       " 'heaven': 3387,\n",
       " 'an': 970,\n",
       " 'prince': 5386,\n",
       " 'gn': 3169,\n",
       " 'yes': 7665,\n",
       " 'possible': 5307,\n",
       " 'dint': 2344,\n",
       " 'try': 7034,\n",
       " 'dont': 2423,\n",
       " 'tell': 6724,\n",
       " 'resume': 5733,\n",
       " 'little': 4163,\n",
       " 'pocy': 5261,\n",
       " 'bell': 1325,\n",
       " 'usual': 7205,\n",
       " 'iam': 3578,\n",
       " 'fine': 2863,\n",
       " 'charles': 1753,\n",
       " 'late': 4033,\n",
       " 'lastest': 4031,\n",
       " 'stereophonics': 6441,\n",
       " 'marley': 4363,\n",
       " 'dizzee': 2379,\n",
       " 'racal': 5515,\n",
       " 'libertines': 4104,\n",
       " 'strokes': 6492,\n",
       " 'win': 7494,\n",
       " 'nookii': 4798,\n",
       " 'games': 3078,\n",
       " 'flirt': 2907,\n",
       " 'click': 1860,\n",
       " 'themob': 6797,\n",
       " 'wap': 7356,\n",
       " 'bookmark': 1450,\n",
       " '82468': 665,\n",
       " 'someone': 6273,\n",
       " 'asked': 1107,\n",
       " 'dating': 2195,\n",
       " 'service': 6011,\n",
       " 'guess': 3278,\n",
       " '09058091854': 176,\n",
       " 'revealed': 5744,\n",
       " 'po': 5244,\n",
       " 'box385': 1483,\n",
       " 'm6': 4285,\n",
       " '6wu': 617,\n",
       " 'voda': 7294,\n",
       " 'numbers': 4843,\n",
       " 'ending': 2602,\n",
       " '5226': 558,\n",
       " 'selected': 5976,\n",
       " 'receive': 5598,\n",
       " '350': 449,\n",
       " 'award': 1178,\n",
       " 'hava': 3357,\n",
       " 'match': 4379,\n",
       " 'please': 5228,\n",
       " '08712300220': 101,\n",
       " 'quoting': 5514,\n",
       " 'code': 1897,\n",
       " '1131': 275,\n",
       " 'standard': 6404,\n",
       " 'rates': 5545,\n",
       " 'app': 1030,\n",
       " 'mallika': 4335,\n",
       " 'sherawat': 6057,\n",
       " 'url': 7187,\n",
       " 'here': 3415,\n",
       " 'though': 6838,\n",
       " 'friday': 3006,\n",
       " 'wot': 7585,\n",
       " 'weeks': 7415,\n",
       " 'become': 1295,\n",
       " 'slob': 6206,\n",
       " 'already': 936,\n",
       " 'done': 2421,\n",
       " 'awake': 1177,\n",
       " 'hello': 3399,\n",
       " 'damn': 2167,\n",
       " 'christmas': 1829,\n",
       " 'thing': 6816,\n",
       " 'decided': 2222,\n",
       " 'keep': 3919,\n",
       " 'mp3': 4601,\n",
       " 'doesnt': 2399,\n",
       " 'disturbing': 2372,\n",
       " 'company': 1941,\n",
       " 'language': 4022,\n",
       " 'december': 2219,\n",
       " 'mobile': 4532,\n",
       " '11mths': 280,\n",
       " 'entitled': 2630,\n",
       " 'update': 7163,\n",
       " 'colour': 1915,\n",
       " 'camera': 1646,\n",
       " 'co': 1891,\n",
       " '08002986906': 58,\n",
       " 'pick': 5180,\n",
       " 'burger': 1583,\n",
       " 'yourself': 7689,\n",
       " 'even': 2674,\n",
       " 'move': 4594,\n",
       " 'pain': 5031,\n",
       " 'killing': 3947,\n",
       " 'part': 5066,\n",
       " 'nottingham': 4823,\n",
       " 'hrs': 3536,\n",
       " '63miles': 588,\n",
       " '40mph': 487,\n",
       " 'ho': 3461,\n",
       " 'renewal': 5675,\n",
       " 'details': 2292,\n",
       " 'bed': 1299,\n",
       " 'prin': 5385,\n",
       " 'goods': 3204,\n",
       " 'maybe': 4398,\n",
       " 'something': 6278,\n",
       " 'else': 2581,\n",
       " 'instead': 3707,\n",
       " 'worry': 7579,\n",
       " 'nothing': 4818,\n",
       " 'use': 7195,\n",
       " 'keeping': 3920,\n",
       " 'let': 4095,\n",
       " 'bill': 1368,\n",
       " 'millers': 4469,\n",
       " 'paid': 5030,\n",
       " 'outstanding': 5002,\n",
       " 'commercial': 1933,\n",
       " 'hasbro': 3347,\n",
       " 'august': 1150,\n",
       " 'made': 4306,\n",
       " 'jump': 3880,\n",
       " 'through': 6848,\n",
       " 'hoops': 3492,\n",
       " 'lol': 4196,\n",
       " 'busy': 1596,\n",
       " 'jus': 3886,\n",
       " 'bathing': 1259,\n",
       " 'bootydelious': 1456,\n",
       " '32': 444,\n",
       " 'inviting': 3734,\n",
       " 'friend': 3009,\n",
       " '434': 495,\n",
       " 'see': 5963,\n",
       " 'www': 7615,\n",
       " 'ac': 775,\n",
       " 'frnd': 3018,\n",
       " '62468': 585,\n",
       " 'top': 6953,\n",
       " 'polyphonic': 5276,\n",
       " 'tones': 6934,\n",
       " '087018728737': 81,\n",
       " 'national': 4689,\n",
       " 'rate': 5544,\n",
       " 'toppoly': 6957,\n",
       " 'tune': 7051,\n",
       " 'every': 2681,\n",
       " 'subpoly': 6525,\n",
       " '81618': 659,\n",
       " 'pole': 5267,\n",
       " 'unsub': 7154,\n",
       " '08718727870': 146,\n",
       " 'great': 3248,\n",
       " 'escape': 2655,\n",
       " 'fancy': 2779,\n",
       " 'bridge': 1522,\n",
       " 'lager': 4007,\n",
       " 'tomo': 6930,\n",
       " 'freezing': 2996,\n",
       " 'remember': 5660,\n",
       " 'norm': 4806,\n",
       " '15': 303,\n",
       " 'st': 6392,\n",
       " 'tests': 6753,\n",
       " 'sort': 6303,\n",
       " 'stuff': 6510,\n",
       " 'point': 5264,\n",
       " 'letter': 4097,\n",
       " 'today': 6911,\n",
       " 'access': 781,\n",
       " 'til': 6868,\n",
       " 'march': 4356,\n",
       " 'andre': 976,\n",
       " 'virgil': 7280,\n",
       " 'cream': 2080,\n",
       " 'ard': 1061,\n",
       " 'enjoy': 2616,\n",
       " 'merry': 4444,\n",
       " 'mas': 4371,\n",
       " 'yep': 7663,\n",
       " 'sculpture': 5941,\n",
       " '08712402779': 108,\n",
       " 'immediately': 3632,\n",
       " 'waiting': 7329,\n",
       " 'congratulations': 1987,\n",
       " 'ore': 4965,\n",
       " 'mo': 4528,\n",
       " 'owo': 5018,\n",
       " 'wa': 7317,\n",
       " 'wish': 7513,\n",
       " 'moments': 4553,\n",
       " 'fro': 3025,\n",
       " 'wherever': 7461,\n",
       " 'nannys': 4680,\n",
       " 'address': 823,\n",
       " 'driving': 2471,\n",
       " 'reach': 5561,\n",
       " 'destination': 2288,\n",
       " 'soon': 6295,\n",
       " 'informed': 3684,\n",
       " 'means': 4411,\n",
       " 'door': 2429,\n",
       " 'shall': 6038,\n",
       " 'pickle': 5183,\n",
       " 'garbage': 3086,\n",
       " 'bags': 1213,\n",
       " 'eggs': 2559,\n",
       " 'jam': 3798,\n",
       " 'bread': 1506,\n",
       " 'hannaford': 3327,\n",
       " 'wheat': 7452,\n",
       " 'chex': 1791,\n",
       " 'remb': 5659,\n",
       " 'book': 1447,\n",
       " 'semester': 5985,\n",
       " 'married': 4366,\n",
       " 'women': 7548,\n",
       " 'looking': 4208,\n",
       " 'discreet': 2360,\n",
       " 'action': 807,\n",
       " 'real': 5571,\n",
       " 'matches': 4381,\n",
       " 'instantly': 3706,\n",
       " '69969': 605,\n",
       " 'cost': 2039,\n",
       " 'bcmsfwc1n3xx': 1276,\n",
       " 'hope': 3494,\n",
       " 'meet': 4421,\n",
       " 'project': 5422,\n",
       " 'centre': 1728,\n",
       " 'hurry': 3564,\n",
       " 've': 7239,\n",
       " 'weed': 7410,\n",
       " 'deficient': 2238,\n",
       " 'three': 6845,\n",
       " 'days': 2201,\n",
       " 'missed': 4500,\n",
       " 'back': 1206,\n",
       " 'thangam': 6773,\n",
       " 'held': 3394,\n",
       " 'prasad': 5342,\n",
       " 'also': 939,\n",
       " 'fuck': 3036,\n",
       " 'rhode': 5753,\n",
       " 'island': 3763,\n",
       " 'leaving': 4072,\n",
       " 'alone': 933,\n",
       " 'bong': 1443,\n",
       " 'able': 763,\n",
       " 'raining': 5523,\n",
       " 'caught': 1708,\n",
       " 'mrt': 4604,\n",
       " 'station': 6423,\n",
       " 'responsibilities': 5723,\n",
       " 'mum': 4631,\n",
       " 'buy': 1602,\n",
       " 'food': 2936,\n",
       " 'fantastic': 2781,\n",
       " 'chance': 1740,\n",
       " 'anything': 1014,\n",
       " 'bigger': 1365,\n",
       " 'lift': 4116,\n",
       " 'losing': 4220,\n",
       " 'die': 2323,\n",
       " 'sis': 6161,\n",
       " 'sec': 5951,\n",
       " 'somebody': 6271,\n",
       " 'urgnt': 7184,\n",
       " 'whats': 7450,\n",
       " 'least': 4068,\n",
       " 'wating': 7379,\n",
       " 'arrived': 1088,\n",
       " 'couple': 2054,\n",
       " 'office': 4883,\n",
       " 'lap': 4023,\n",
       " 'room': 5796,\n",
       " 'few': 2827,\n",
       " 'didnt': 2321,\n",
       " 'shut': 6121,\n",
       " '250': 370,\n",
       " 'wkly': 7534,\n",
       " 'shopping': 6087,\n",
       " 'spree': 6377,\n",
       " 'shop': 6085,\n",
       " '80878': 655,\n",
       " 'custcare': 2142,\n",
       " '08715705022': 128,\n",
       " '1x150p': 343,\n",
       " 'wk': 7530,\n",
       " 'apples': 1037,\n",
       " 'pairs': 5035,\n",
       " 'malarky': 4332,\n",
       " 'mm': 4518,\n",
       " 'railway': 5521,\n",
       " 'bye': 1611,\n",
       " 'comin': 1928,\n",
       " 'baby': 1201,\n",
       " 'promise': 5426,\n",
       " 'bet': 1343,\n",
       " 'ne': 4700,\n",
       " 'interesting': 3716,\n",
       " 'birthday': 1384,\n",
       " 'wrking': 7599,\n",
       " 'nxt': 4853,\n",
       " 'started': 6415,\n",
       " 'uni': 7133,\n",
       " 'lar': 4026,\n",
       " 'put': 5482,\n",
       " 'news': 4749,\n",
       " 'job': 3846,\n",
       " 'making': 4330,\n",
       " 'fifth': 2837,\n",
       " 'woozles': 7563,\n",
       " 'weasels': 7396,\n",
       " 'exeter': 2718,\n",
       " 'boytoy': 1495,\n",
       " 'constant': 1998,\n",
       " 'visit': 7285,\n",
       " 'till': 6869,\n",
       " 'feb': 2807,\n",
       " 'tirupur': 6883,\n",
       " 'frens': 3000,\n",
       " 'aathi': 754,\n",
       " 'lot': 4223,\n",
       " 'ups': 7172,\n",
       " '3days': 462,\n",
       " 'shipping': 6070,\n",
       " 'takes': 6661,\n",
       " '2wks': 422,\n",
       " 'usps': 7204,\n",
       " 'lag': 4005,\n",
       " 'may': 4396,\n",
       " 'bribe': 1520,\n",
       " 'nipost': 4772,\n",
       " 'sptv': 6381,\n",
       " 'jersey': 3831,\n",
       " 'devils': 2300,\n",
       " 'detroit': 2295,\n",
       " 'red': 5619,\n",
       " 'wings': 7502,\n",
       " 'play': 5220,\n",
       " 'ice': 3589,\n",
       " 'hockey': 3462,\n",
       " 'correct': 2034,\n",
       " 'incorrect': 3662,\n",
       " 'lets': 4096,\n",
       " 'early': 2520,\n",
       " 'drop': 2473,\n",
       " 'either': 2567,\n",
       " '10k': 269,\n",
       " '5k': 568,\n",
       " '500': 546,\n",
       " 'cash': 1695,\n",
       " '100': 261,\n",
       " 'travel': 7001,\n",
       " '09064011000': 211,\n",
       " 'ntt': 4837,\n",
       " 'box': 1476,\n",
       " 'cr01327bt': 2066,\n",
       " 'fixedline': 2889,\n",
       " '150ppm': 310,\n",
       " 'vary': 7232,\n",
       " 'prasanth': 5343,\n",
       " 'ettans': 2665,\n",
       " 'mother': 4585,\n",
       " 'passed': 5078,\n",
       " 'dun': 2500,\n",
       " 'wear': 7393,\n",
       " 'jeans': 3820,\n",
       " 'thinking': 6821,\n",
       " 'chuckin': 1832,\n",
       " 'green': 3251,\n",
       " 'black': 1393,\n",
       " 'trainners': 6987,\n",
       " 'save': 5897,\n",
       " 'carryin': 1690,\n",
       " 'bac': 1205,\n",
       " 'train': 6984,\n",
       " 'okay': 4897,\n",
       " 'thanx': 6779,\n",
       " 'woman': 7546,\n",
       " 'likes': 4125,\n",
       " 'dislikes': 2364,\n",
       " 'gain': 3071,\n",
       " 'rights': 5762,\n",
       " 'wife': 7485,\n",
       " 'demand': 2257,\n",
       " 'husband': 3568,\n",
       " 'both': 1466,\n",
       " 'inside': 3701,\n",
       " 'outside': 4999,\n",
       " 'bedroom': 1303,\n",
       " 'hero': 3416,\n",
       " 'qatar': 5488,\n",
       " 'tonite': 6941,\n",
       " 'apt': 1053,\n",
       " 'opportunity': 4945,\n",
       " 'touch': 6970,\n",
       " 'kerala': 3925,\n",
       " 'drinkin': 2464,\n",
       " 'lolnice': 4197,\n",
       " 'fish': 2880,\n",
       " 'water': 7376,\n",
       " 'den': 2258,\n",
       " 'wat': 7371,\n",
       " 'schedule': 5917,\n",
       " 'lk': 4169,\n",
       " 'sun': 6571,\n",
       " 'anytime': 1016,\n",
       " 'network': 4736,\n",
       " 'months': 4570,\n",
       " '08000930705': 54,\n",
       " 'wants': 7355,\n",
       " 'talk': 6666,\n",
       " 'bring': 1530,\n",
       " 'bottle': 1468,\n",
       " 'amused': 968,\n",
       " 'joking': 3860,\n",
       " 'anyway': 1017,\n",
       " 'congrats': 1985,\n",
       " 'pending': 5116,\n",
       " 'mail': 4319,\n",
       " 'once': 4917,\n",
       " 'thru': 6852,\n",
       " 'mails': 4322,\n",
       " 'seeing': 5965,\n",
       " 'weird': 7420,\n",
       " 'shit': 6073,\n",
       " 'bein': 1321,\n",
       " 'woah': 7542,\n",
       " 'realising': 5575,\n",
       " 'couldn': 2048,\n",
       " 'worse': 7581,\n",
       " 'somewhat': 6282,\n",
       " 'event': 2677,\n",
       " 'laden': 4002,\n",
       " 'fill': 2848,\n",
       " 'head': 3369,\n",
       " 'throat': 6847,\n",
       " 'wrecked': 7594,\n",
       " 'six': 6170,\n",
       " 'chasing': 1759,\n",
       " 'dream': 2457,\n",
       " 'daddy': 2162,\n",
       " 'fetch': 2824,\n",
       " 'dude': 2493,\n",
       " 'knw': 3971,\n",
       " 'telugu': 6729,\n",
       " 'thts': 6855,\n",
       " 'gud': 3274,\n",
       " 'nyt': 4857,\n",
       " 'yo': 7674,\n",
       " 'stock': 6454,\n",
       " 'dubsack': 2490,\n",
       " 'laugh': 4039,\n",
       " 'loud': 4229,\n",
       " 'spontaneously': 6368,\n",
       " 'others': 4981,\n",
       " 'feel': 2811,\n",
       " 'best': 1341,\n",
       " 'friends': 3010,\n",
       " 'goodevening': 3197,\n",
       " 'genius': 3118,\n",
       " 'brother': 1546,\n",
       " 'number': 4842,\n",
       " 'skype': 6183,\n",
       " 'lul': 4264,\n",
       " 'gettin': 3136,\n",
       " 'juicy': 3875,\n",
       " 'gossip': 3209,\n",
       " 'hospital': 3508,\n",
       " 'nurses': 4844,\n",
       " 'talking': 6669,\n",
       " 'fat': 2790,\n",
       " 'thinks': 6822,\n",
       " 'shes': 6058,\n",
       " 'obese': 4863,\n",
       " 'oyea': 5020,\n",
       " 'scared': 5912,\n",
       " 'cozy': 2064,\n",
       " 'exhausted': 2720,\n",
       " 'nobody': 4784,\n",
       " 'school': 5918,\n",
       " 'everything': 2689,\n",
       " 'closed': 1868,\n",
       " 'thk': 6828,\n",
       " 'oso': 4978,\n",
       " 'boring': 1460,\n",
       " 'choose': 1824,\n",
       " 'videos': 7265,\n",
       " ...}"
      ]
     },
     "execution_count": 47,
     "metadata": {},
     "output_type": "execute_result"
    }
   ],
   "source": [
    "v.vocabulary_"
   ]
  },
  {
   "cell_type": "code",
   "execution_count": 69,
   "id": "a805af1f",
   "metadata": {},
   "outputs": [
    {
     "data": {
      "text/plain": [
       "array([0, 0, 0, ..., 0, 0, 0], dtype=int64)"
      ]
     },
     "execution_count": 69,
     "metadata": {},
     "output_type": "execute_result"
    }
   ],
   "source": [
    "X_train_np = X_train_cv.toarray()\n",
    "X_train_np[3737]"
   ]
  },
  {
   "cell_type": "code",
   "execution_count": 70,
   "id": "79aa94f4",
   "metadata": {},
   "outputs": [
    {
     "data": {
      "text/plain": [
       "(array([1017, 1062, 1136, 1283, 1597, 1650, 2385, 3268, 3402, 3606, 3968,\n",
       "        4095, 4404, 4814, 4828, 5570, 5638, 6099, 6595, 6804, 6818, 6905,\n",
       "        7195, 7455, 7655, 7679, 7684], dtype=int64),)"
      ]
     },
     "execution_count": 70,
     "metadata": {},
     "output_type": "execute_result"
    }
   ],
   "source": [
    "np.where(X_train_np[3737]!=0)"
   ]
  },
  {
   "cell_type": "code",
   "execution_count": 74,
   "id": "62198de1",
   "metadata": {},
   "outputs": [
    {
     "data": {
      "text/plain": [
       "'Hows the street where the end of library walk is?'"
      ]
     },
     "execution_count": 74,
     "metadata": {},
     "output_type": "execute_result"
    }
   ],
   "source": [
    "X_train[:4][3737]"
   ]
  },
  {
   "cell_type": "code",
   "execution_count": 63,
   "id": "50a37c71",
   "metadata": {
    "scrolled": true
   },
   "outputs": [
    {
     "data": {
      "text/plain": [
       "0"
      ]
     },
     "execution_count": 63,
     "metadata": {},
     "output_type": "execute_result"
    }
   ],
   "source": [
    "X_train_np[0][3737]"
   ]
  },
  {
   "cell_type": "markdown",
   "id": "e6ea444a",
   "metadata": {},
   "source": [
    "<h3>Train the naive bayes model</h3>"
   ]
  },
  {
   "cell_type": "code",
   "execution_count": 76,
   "id": "bf02cecc",
   "metadata": {},
   "outputs": [
    {
     "data": {
      "text/html": [
       "<style>#sk-container-id-2 {color: black;background-color: white;}#sk-container-id-2 pre{padding: 0;}#sk-container-id-2 div.sk-toggleable {background-color: white;}#sk-container-id-2 label.sk-toggleable__label {cursor: pointer;display: block;width: 100%;margin-bottom: 0;padding: 0.3em;box-sizing: border-box;text-align: center;}#sk-container-id-2 label.sk-toggleable__label-arrow:before {content: \"▸\";float: left;margin-right: 0.25em;color: #696969;}#sk-container-id-2 label.sk-toggleable__label-arrow:hover:before {color: black;}#sk-container-id-2 div.sk-estimator:hover label.sk-toggleable__label-arrow:before {color: black;}#sk-container-id-2 div.sk-toggleable__content {max-height: 0;max-width: 0;overflow: hidden;text-align: left;background-color: #f0f8ff;}#sk-container-id-2 div.sk-toggleable__content pre {margin: 0.2em;color: black;border-radius: 0.25em;background-color: #f0f8ff;}#sk-container-id-2 input.sk-toggleable__control:checked~div.sk-toggleable__content {max-height: 200px;max-width: 100%;overflow: auto;}#sk-container-id-2 input.sk-toggleable__control:checked~label.sk-toggleable__label-arrow:before {content: \"▾\";}#sk-container-id-2 div.sk-estimator input.sk-toggleable__control:checked~label.sk-toggleable__label {background-color: #d4ebff;}#sk-container-id-2 div.sk-label input.sk-toggleable__control:checked~label.sk-toggleable__label {background-color: #d4ebff;}#sk-container-id-2 input.sk-hidden--visually {border: 0;clip: rect(1px 1px 1px 1px);clip: rect(1px, 1px, 1px, 1px);height: 1px;margin: -1px;overflow: hidden;padding: 0;position: absolute;width: 1px;}#sk-container-id-2 div.sk-estimator {font-family: monospace;background-color: #f0f8ff;border: 1px dotted black;border-radius: 0.25em;box-sizing: border-box;margin-bottom: 0.5em;}#sk-container-id-2 div.sk-estimator:hover {background-color: #d4ebff;}#sk-container-id-2 div.sk-parallel-item::after {content: \"\";width: 100%;border-bottom: 1px solid gray;flex-grow: 1;}#sk-container-id-2 div.sk-label:hover label.sk-toggleable__label {background-color: #d4ebff;}#sk-container-id-2 div.sk-serial::before {content: \"\";position: absolute;border-left: 1px solid gray;box-sizing: border-box;top: 0;bottom: 0;left: 50%;z-index: 0;}#sk-container-id-2 div.sk-serial {display: flex;flex-direction: column;align-items: center;background-color: white;padding-right: 0.2em;padding-left: 0.2em;position: relative;}#sk-container-id-2 div.sk-item {position: relative;z-index: 1;}#sk-container-id-2 div.sk-parallel {display: flex;align-items: stretch;justify-content: center;background-color: white;position: relative;}#sk-container-id-2 div.sk-item::before, #sk-container-id-2 div.sk-parallel-item::before {content: \"\";position: absolute;border-left: 1px solid gray;box-sizing: border-box;top: 0;bottom: 0;left: 50%;z-index: -1;}#sk-container-id-2 div.sk-parallel-item {display: flex;flex-direction: column;z-index: 1;position: relative;background-color: white;}#sk-container-id-2 div.sk-parallel-item:first-child::after {align-self: flex-end;width: 50%;}#sk-container-id-2 div.sk-parallel-item:last-child::after {align-self: flex-start;width: 50%;}#sk-container-id-2 div.sk-parallel-item:only-child::after {width: 0;}#sk-container-id-2 div.sk-dashed-wrapped {border: 1px dashed gray;margin: 0 0.4em 0.5em 0.4em;box-sizing: border-box;padding-bottom: 0.4em;background-color: white;}#sk-container-id-2 div.sk-label label {font-family: monospace;font-weight: bold;display: inline-block;line-height: 1.2em;}#sk-container-id-2 div.sk-label-container {text-align: center;}#sk-container-id-2 div.sk-container {/* jupyter's `normalize.less` sets `[hidden] { display: none; }` but bootstrap.min.css set `[hidden] { display: none !important; }` so we also need the `!important` here to be able to override the default hidden behavior on the sphinx rendered scikit-learn.org. See: https://github.com/scikit-learn/scikit-learn/issues/21755 */display: inline-block !important;position: relative;}#sk-container-id-2 div.sk-text-repr-fallback {display: none;}</style><div id=\"sk-container-id-2\" class=\"sk-top-container\"><div class=\"sk-text-repr-fallback\"><pre>MultinomialNB()</pre><b>In a Jupyter environment, please rerun this cell to show the HTML representation or trust the notebook. <br />On GitHub, the HTML representation is unable to render, please try loading this page with nbviewer.org.</b></div><div class=\"sk-container\" hidden><div class=\"sk-item\"><div class=\"sk-estimator sk-toggleable\"><input class=\"sk-toggleable__control sk-hidden--visually\" id=\"sk-estimator-id-2\" type=\"checkbox\" checked><label for=\"sk-estimator-id-2\" class=\"sk-toggleable__label sk-toggleable__label-arrow\">MultinomialNB</label><div class=\"sk-toggleable__content\"><pre>MultinomialNB()</pre></div></div></div></div></div>"
      ],
      "text/plain": [
       "MultinomialNB()"
      ]
     },
     "execution_count": 76,
     "metadata": {},
     "output_type": "execute_result"
    }
   ],
   "source": [
    "from sklearn.naive_bayes import MultinomialNB\n",
    "\n",
    "model = MultinomialNB()\n",
    "model.fit(X_train_cv, y_train)"
   ]
  },
  {
   "cell_type": "code",
   "execution_count": 77,
   "id": "94f569a6",
   "metadata": {},
   "outputs": [],
   "source": [
    "X_test_cv = v.transform(X_test)"
   ]
  },
  {
   "cell_type": "markdown",
   "id": "101b8b8d",
   "metadata": {},
   "source": [
    "<h3>Evaluate Performance</h3>"
   ]
  },
  {
   "cell_type": "code",
   "execution_count": 78,
   "id": "1c0cb441",
   "metadata": {},
   "outputs": [
    {
     "name": "stdout",
     "output_type": "stream",
     "text": [
      "              precision    recall  f1-score   support\n",
      "\n",
      "           0       0.99      0.99      0.99       974\n",
      "           1       0.96      0.91      0.94       141\n",
      "\n",
      "    accuracy                           0.98      1115\n",
      "   macro avg       0.98      0.95      0.96      1115\n",
      "weighted avg       0.98      0.98      0.98      1115\n",
      "\n"
     ]
    }
   ],
   "source": [
    "from sklearn.metrics import classification_report\n",
    "\n",
    "y_pred = model.predict(X_test_cv)\n",
    "\n",
    "print(classification_report(y_test, y_pred))"
   ]
  },
  {
   "cell_type": "code",
   "execution_count": 82,
   "id": "27dcf0b7",
   "metadata": {
    "scrolled": true
   },
   "outputs": [
    {
     "data": {
      "text/plain": [
       "array([0, 1], dtype=int64)"
      ]
     },
     "execution_count": 82,
     "metadata": {},
     "output_type": "execute_result"
    }
   ],
   "source": [
    "emails = [\n",
    "    'Hey mohan, can we get together to watch footbal game tomorrow?',\n",
    "    'Upto 20% discount on parking, exclusive offer just for you. Dont miss this reward!'\n",
    "]\n",
    "\n",
    "emails_CountVector = v.transform(emails)\n",
    "model.predict(emails_CountVector)"
   ]
  },
  {
   "cell_type": "markdown",
   "id": "22c9e2e2",
   "metadata": {},
   "source": [
    "<h3>Train the model using sklearn pipeline and reduce number of lines of code</h3>"
   ]
  },
  {
   "cell_type": "code",
   "execution_count": 83,
   "id": "863f5ffa",
   "metadata": {},
   "outputs": [],
   "source": [
    "from sklearn.pipeline import Pipeline\n",
    "\n",
    "clf = Pipeline([\n",
    "    ('vectorizer', CountVectorizer()),\n",
    "    ('nb', MultinomialNB())\n",
    "])"
   ]
  },
  {
   "cell_type": "code",
   "execution_count": 84,
   "id": "26ecc1d4",
   "metadata": {},
   "outputs": [
    {
     "data": {
      "text/html": [
       "<style>#sk-container-id-3 {color: black;background-color: white;}#sk-container-id-3 pre{padding: 0;}#sk-container-id-3 div.sk-toggleable {background-color: white;}#sk-container-id-3 label.sk-toggleable__label {cursor: pointer;display: block;width: 100%;margin-bottom: 0;padding: 0.3em;box-sizing: border-box;text-align: center;}#sk-container-id-3 label.sk-toggleable__label-arrow:before {content: \"▸\";float: left;margin-right: 0.25em;color: #696969;}#sk-container-id-3 label.sk-toggleable__label-arrow:hover:before {color: black;}#sk-container-id-3 div.sk-estimator:hover label.sk-toggleable__label-arrow:before {color: black;}#sk-container-id-3 div.sk-toggleable__content {max-height: 0;max-width: 0;overflow: hidden;text-align: left;background-color: #f0f8ff;}#sk-container-id-3 div.sk-toggleable__content pre {margin: 0.2em;color: black;border-radius: 0.25em;background-color: #f0f8ff;}#sk-container-id-3 input.sk-toggleable__control:checked~div.sk-toggleable__content {max-height: 200px;max-width: 100%;overflow: auto;}#sk-container-id-3 input.sk-toggleable__control:checked~label.sk-toggleable__label-arrow:before {content: \"▾\";}#sk-container-id-3 div.sk-estimator input.sk-toggleable__control:checked~label.sk-toggleable__label {background-color: #d4ebff;}#sk-container-id-3 div.sk-label input.sk-toggleable__control:checked~label.sk-toggleable__label {background-color: #d4ebff;}#sk-container-id-3 input.sk-hidden--visually {border: 0;clip: rect(1px 1px 1px 1px);clip: rect(1px, 1px, 1px, 1px);height: 1px;margin: -1px;overflow: hidden;padding: 0;position: absolute;width: 1px;}#sk-container-id-3 div.sk-estimator {font-family: monospace;background-color: #f0f8ff;border: 1px dotted black;border-radius: 0.25em;box-sizing: border-box;margin-bottom: 0.5em;}#sk-container-id-3 div.sk-estimator:hover {background-color: #d4ebff;}#sk-container-id-3 div.sk-parallel-item::after {content: \"\";width: 100%;border-bottom: 1px solid gray;flex-grow: 1;}#sk-container-id-3 div.sk-label:hover label.sk-toggleable__label {background-color: #d4ebff;}#sk-container-id-3 div.sk-serial::before {content: \"\";position: absolute;border-left: 1px solid gray;box-sizing: border-box;top: 0;bottom: 0;left: 50%;z-index: 0;}#sk-container-id-3 div.sk-serial {display: flex;flex-direction: column;align-items: center;background-color: white;padding-right: 0.2em;padding-left: 0.2em;position: relative;}#sk-container-id-3 div.sk-item {position: relative;z-index: 1;}#sk-container-id-3 div.sk-parallel {display: flex;align-items: stretch;justify-content: center;background-color: white;position: relative;}#sk-container-id-3 div.sk-item::before, #sk-container-id-3 div.sk-parallel-item::before {content: \"\";position: absolute;border-left: 1px solid gray;box-sizing: border-box;top: 0;bottom: 0;left: 50%;z-index: -1;}#sk-container-id-3 div.sk-parallel-item {display: flex;flex-direction: column;z-index: 1;position: relative;background-color: white;}#sk-container-id-3 div.sk-parallel-item:first-child::after {align-self: flex-end;width: 50%;}#sk-container-id-3 div.sk-parallel-item:last-child::after {align-self: flex-start;width: 50%;}#sk-container-id-3 div.sk-parallel-item:only-child::after {width: 0;}#sk-container-id-3 div.sk-dashed-wrapped {border: 1px dashed gray;margin: 0 0.4em 0.5em 0.4em;box-sizing: border-box;padding-bottom: 0.4em;background-color: white;}#sk-container-id-3 div.sk-label label {font-family: monospace;font-weight: bold;display: inline-block;line-height: 1.2em;}#sk-container-id-3 div.sk-label-container {text-align: center;}#sk-container-id-3 div.sk-container {/* jupyter's `normalize.less` sets `[hidden] { display: none; }` but bootstrap.min.css set `[hidden] { display: none !important; }` so we also need the `!important` here to be able to override the default hidden behavior on the sphinx rendered scikit-learn.org. See: https://github.com/scikit-learn/scikit-learn/issues/21755 */display: inline-block !important;position: relative;}#sk-container-id-3 div.sk-text-repr-fallback {display: none;}</style><div id=\"sk-container-id-3\" class=\"sk-top-container\"><div class=\"sk-text-repr-fallback\"><pre>Pipeline(steps=[(&#x27;vectorizer&#x27;, CountVectorizer()), (&#x27;nb&#x27;, MultinomialNB())])</pre><b>In a Jupyter environment, please rerun this cell to show the HTML representation or trust the notebook. <br />On GitHub, the HTML representation is unable to render, please try loading this page with nbviewer.org.</b></div><div class=\"sk-container\" hidden><div class=\"sk-item sk-dashed-wrapped\"><div class=\"sk-label-container\"><div class=\"sk-label sk-toggleable\"><input class=\"sk-toggleable__control sk-hidden--visually\" id=\"sk-estimator-id-3\" type=\"checkbox\" ><label for=\"sk-estimator-id-3\" class=\"sk-toggleable__label sk-toggleable__label-arrow\">Pipeline</label><div class=\"sk-toggleable__content\"><pre>Pipeline(steps=[(&#x27;vectorizer&#x27;, CountVectorizer()), (&#x27;nb&#x27;, MultinomialNB())])</pre></div></div></div><div class=\"sk-serial\"><div class=\"sk-item\"><div class=\"sk-estimator sk-toggleable\"><input class=\"sk-toggleable__control sk-hidden--visually\" id=\"sk-estimator-id-4\" type=\"checkbox\" ><label for=\"sk-estimator-id-4\" class=\"sk-toggleable__label sk-toggleable__label-arrow\">CountVectorizer</label><div class=\"sk-toggleable__content\"><pre>CountVectorizer()</pre></div></div></div><div class=\"sk-item\"><div class=\"sk-estimator sk-toggleable\"><input class=\"sk-toggleable__control sk-hidden--visually\" id=\"sk-estimator-id-5\" type=\"checkbox\" ><label for=\"sk-estimator-id-5\" class=\"sk-toggleable__label sk-toggleable__label-arrow\">MultinomialNB</label><div class=\"sk-toggleable__content\"><pre>MultinomialNB()</pre></div></div></div></div></div></div></div>"
      ],
      "text/plain": [
       "Pipeline(steps=[('vectorizer', CountVectorizer()), ('nb', MultinomialNB())])"
      ]
     },
     "execution_count": 84,
     "metadata": {},
     "output_type": "execute_result"
    }
   ],
   "source": [
    "clf.fit(X_train, y_train)"
   ]
  },
  {
   "cell_type": "code",
   "execution_count": 85,
   "id": "e7d9b00b",
   "metadata": {},
   "outputs": [
    {
     "name": "stdout",
     "output_type": "stream",
     "text": [
      "              precision    recall  f1-score   support\n",
      "\n",
      "           0       0.99      0.99      0.99       974\n",
      "           1       0.96      0.91      0.94       141\n",
      "\n",
      "    accuracy                           0.98      1115\n",
      "   macro avg       0.98      0.95      0.96      1115\n",
      "weighted avg       0.98      0.98      0.98      1115\n",
      "\n"
     ]
    }
   ],
   "source": [
    "y_pred = clf.predict(X_test)\n",
    "\n",
    "print(classification_report(y_test, y_pred))"
   ]
  },
  {
   "cell_type": "code",
   "execution_count": null,
   "id": "d5f8e27c",
   "metadata": {},
   "outputs": [],
   "source": []
  }
 ],
 "metadata": {
  "kernelspec": {
   "display_name": "Python 3 (ipykernel)",
   "language": "python",
   "name": "python3"
  },
  "language_info": {
   "codemirror_mode": {
    "name": "ipython",
    "version": 3
   },
   "file_extension": ".py",
   "mimetype": "text/x-python",
   "name": "python",
   "nbconvert_exporter": "python",
   "pygments_lexer": "ipython3",
   "version": "3.10.9"
  }
 },
 "nbformat": 4,
 "nbformat_minor": 5
}
