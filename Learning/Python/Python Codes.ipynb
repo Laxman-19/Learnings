{
 "cells": [
  {
   "cell_type": "markdown",
   "id": "195f1aa3",
   "metadata": {},
   "source": [
    "### 1] Write a function to find the second largest element in a given list."
   ]
  },
  {
   "cell_type": "code",
   "execution_count": 3,
   "id": "a99cb36e",
   "metadata": {},
   "outputs": [],
   "source": [
    "def second_largest(list):\n",
    "    n = len(list)\n",
    "    \n",
    "    for i in range(n):\n",
    "        min = i\n",
    "\n",
    "        for j in range(i+1,n):\n",
    "            if list[j] < list[min]:\n",
    "                min = j\n",
    "\n",
    "        temp = list[min]    \n",
    "        list[min] = list[i]\n",
    "        list[i] = temp\n",
    "\n",
    "\n",
    "    print(list[n-2])"
   ]
  },
  {
   "cell_type": "code",
   "execution_count": 4,
   "id": "8c263c31",
   "metadata": {},
   "outputs": [
    {
     "name": "stdout",
     "output_type": "stream",
     "text": [
      "5\n"
     ]
    }
   ],
   "source": [
    "example = [2,4,7,1,5]\n",
    "second_largest(example)"
   ]
  },
  {
   "cell_type": "markdown",
   "id": "0409c567",
   "metadata": {},
   "source": [
    "### 2] Write a function to check if a given string is a palindrome."
   ]
  },
  {
   "cell_type": "code",
   "execution_count": 5,
   "id": "992956f7",
   "metadata": {},
   "outputs": [],
   "source": [
    "def palindrome(word):\n",
    "    n = len(word)\n",
    "    result = 0\n",
    "\n",
    "    for i in range(n): \n",
    "        if word[i] != word[n-i-1]:\n",
    "            result = 1\n",
    "\n",
    "    if result == 0:\n",
    "        print(\"Entered string is a palindrome\")\n",
    "    else:\n",
    "        print(\"Entered string is not a palindrome\")"
   ]
  },
  {
   "cell_type": "code",
   "execution_count": 6,
   "id": "0e391727",
   "metadata": {},
   "outputs": [
    {
     "name": "stdout",
     "output_type": "stream",
     "text": [
      "Enter the Word: madam\n",
      "Entered string is a palindrome\n"
     ]
    }
   ],
   "source": [
    "string = input(\"Enter the Word: \")\n",
    "palindrome(string)"
   ]
  },
  {
   "cell_type": "markdown",
   "id": "f99f61ad",
   "metadata": {},
   "source": [
    "### 3] Write a function to find the common elements between two lists."
   ]
  },
  {
   "cell_type": "code",
   "execution_count": 7,
   "id": "50e5c7c9",
   "metadata": {},
   "outputs": [],
   "source": [
    "def common_elements(list1, list2): \n",
    "    n1 = len(list1)\n",
    "    n2 = len(list2)\n",
    "    \n",
    "    for i in range(n1):\n",
    "        for j in range(n2):\n",
    "            if list1[i] == list2[j]:\n",
    "                print(list1[i])\n",
    "                \n",
    "    print(\"These elements are common in both the lists\")\n",
    "    "
   ]
  },
  {
   "cell_type": "code",
   "execution_count": 8,
   "id": "b92962e5",
   "metadata": {},
   "outputs": [
    {
     "name": "stdout",
     "output_type": "stream",
     "text": [
      "3\n",
      "4\n",
      "5\n",
      "These elements are common in both the lists\n"
     ]
    }
   ],
   "source": [
    "example1 = [1,2,3,4,5]\n",
    "example2 = [3,4,5,6,7,8]\n",
    "\n",
    "common_elements(example1, example2)"
   ]
  },
  {
   "cell_type": "markdown",
   "id": "d4495e32",
   "metadata": {},
   "source": [
    "### 4] Implement a function to remove duplicates from a list while preserving the original order."
   ]
  },
  {
   "cell_type": "code",
   "execution_count": 37,
   "id": "a4c62f0a",
   "metadata": {},
   "outputs": [],
   "source": [
    "def remove_duplicates(list):\n",
    "    \n",
    "    unique_list = []\n",
    "    unique_list.append(list[0])\n",
    "    n = len(list)\n",
    "    \n",
    "    for i in range(1,n):        \n",
    "        if list[i] not in unique_list:\n",
    "            unique_list.append(list[i])\n",
    "\n",
    "    print(unique_list)\n",
    "\n",
    "    \n",
    "#     list_set = set(list1)\n",
    "#     unique_list = list(list_set)\n",
    "#     print(unique_list)"
   ]
  },
  {
   "cell_type": "code",
   "execution_count": 12,
   "id": "076e866b",
   "metadata": {},
   "outputs": [
    {
     "name": "stdout",
     "output_type": "stream",
     "text": [
      "[1, 2, 3, 6, 4, 5]\n"
     ]
    }
   ],
   "source": [
    "nums = [1,1,2,3,3,6,6,4,4,2,1,5,3,5]\n",
    "unique = []\n",
    "for element in nums:\n",
    "    if element not in unique:\n",
    "        unique.append(element)\n",
    "a = len(unique)\n",
    "print(unique)"
   ]
  },
  {
   "cell_type": "code",
   "execution_count": 30,
   "id": "7f3fd473",
   "metadata": {},
   "outputs": [],
   "source": [
    "class Solution:\n",
    "    def reverse(x: int) -> int:\n",
    "        INT_MAX = 2**31 - 1  # Maximum 32-bit signed integer value\n",
    "        INT_MIN = -2**31     # Minimum 32-bit signed integer value\n",
    "\n",
    "        # Handle negative numbers and store the sign\n",
    "        sign = 1\n",
    "        if x < 0:\n",
    "            sign = -1\n",
    "            x = -x\n",
    "\n",
    "        reversed_num = 0\n",
    "\n",
    "        while x > 0:\n",
    "            remainder = x % 10\n",
    "            reversed_num = reversed_num * 10 + remainder\n",
    "            x //= 10\n",
    "            \n",
    "            if reversed_num > (INT_MAX - remainder) // 10:\n",
    "                return 0  # Overflow check\n",
    "\n",
    "        return sign * reversed_num\n"
   ]
  },
  {
   "cell_type": "code",
   "execution_count": 31,
   "id": "7d1d0046",
   "metadata": {},
   "outputs": [
    {
     "name": "stdout",
     "output_type": "stream",
     "text": [
      "0\n"
     ]
    }
   ],
   "source": [
    "print(Solution.reverse(12345678987543))"
   ]
  },
  {
   "cell_type": "code",
   "execution_count": 38,
   "id": "f7db9bb3",
   "metadata": {},
   "outputs": [
    {
     "name": "stdout",
     "output_type": "stream",
     "text": [
      "[1, 2, 3, 6, 4, 5]\n"
     ]
    }
   ],
   "source": [
    "example = [1,1,2,3,3,6,6,4,4,2,1,5,3,5]\n",
    "remove_duplicates(example)"
   ]
  },
  {
   "cell_type": "markdown",
   "id": "c6af55e3",
   "metadata": {},
   "source": [
    "### 5] Write a function to find out unique elements in list1 which are not in list2."
   ]
  },
  {
   "cell_type": "code",
   "execution_count": 19,
   "id": "eda55b17",
   "metadata": {},
   "outputs": [],
   "source": [
    "def find_unique_elements(list1, list2):\n",
    "    unique_elements = []\n",
    "    \n",
    "    for element in list1:\n",
    "        if element not in list2 and element not in unique_elements:\n",
    "            unique_elements.append(element)\n",
    "            \n",
    "    print(unique_elements)"
   ]
  },
  {
   "cell_type": "code",
   "execution_count": 20,
   "id": "927c1937",
   "metadata": {},
   "outputs": [
    {
     "name": "stdout",
     "output_type": "stream",
     "text": [
      "[2]\n"
     ]
    }
   ],
   "source": [
    "example1 = [1,2,3,4,5]\n",
    "example2 = [3,1,4,5,6,7,8]\n",
    "\n",
    "find_unique_elements(example1, example2)"
   ]
  },
  {
   "cell_type": "markdown",
   "id": "87454ead",
   "metadata": {},
   "source": [
    "### 6] Write a function to find out unique elements from both list in python."
   ]
  },
  {
   "cell_type": "code",
   "execution_count": 43,
   "id": "887c0540",
   "metadata": {},
   "outputs": [],
   "source": [
    "def unique_elements(list1, list2):\n",
    "    \n",
    "    unique = []\n",
    "    \n",
    "    for element in list1:\n",
    "        if element not in unique:\n",
    "            unique.append(element)\n",
    "            \n",
    "    for element in list2:\n",
    "        if element not in unique:\n",
    "            unique.append(element)\n",
    "            \n",
    "    print(unique)"
   ]
  },
  {
   "cell_type": "code",
   "execution_count": 44,
   "id": "fb96d510",
   "metadata": {},
   "outputs": [
    {
     "name": "stdout",
     "output_type": "stream",
     "text": [
      "[1, 3, 4, 2, 5, 6, 7, 9]\n"
     ]
    }
   ],
   "source": [
    "example1 = [1,3,4,2,1,3,4,5]\n",
    "example2 = [5,6,2,4,1,7,6,9,5]\n",
    "\n",
    "unique_elements(example1, example2)"
   ]
  },
  {
   "cell_type": "markdown",
   "id": "89b096ac",
   "metadata": {},
   "source": [
    "### 7] List 1 has 1,2,3 List 2 has 4,5,6\n",
    "### Output should be element wise multiplication [4, 10, 18] \n"
   ]
  },
  {
   "cell_type": "code",
   "execution_count": 55,
   "id": "cbb48a90",
   "metadata": {},
   "outputs": [],
   "source": [
    "def element_wise_multiplication(list1, list2):\n",
    "    \n",
    "    output = [x * y for x, y in zip(list1, list2)]\n",
    "    print(output)"
   ]
  },
  {
   "cell_type": "code",
   "execution_count": 56,
   "id": "3dd15067",
   "metadata": {},
   "outputs": [
    {
     "name": "stdout",
     "output_type": "stream",
     "text": [
      "[4, 10, 18]\n"
     ]
    }
   ],
   "source": [
    "example1 = [1,2,3]\n",
    "example2 = [4,5,6]\n",
    "\n",
    "element_wise_multiplication(example1, example2)"
   ]
  },
  {
   "cell_type": "markdown",
   "id": "3156ef45",
   "metadata": {},
   "source": [
    "### 8] Implement a function to reverse a given list in place."
   ]
  },
  {
   "cell_type": "code",
   "execution_count": 7,
   "id": "efa6a429",
   "metadata": {},
   "outputs": [],
   "source": [
    "def reverse(list):\n",
    "    n = len(list)\n",
    "    newlist = []\n",
    "    \n",
    "    for i in range(n):\n",
    "        newlist.append(list[n-i-1])\n",
    "    print(newlist)\n",
    "    \n",
    "#     list.reverse()\n",
    "#     print(list)"
   ]
  },
  {
   "cell_type": "code",
   "execution_count": 8,
   "id": "55b48d69",
   "metadata": {},
   "outputs": [
    {
     "name": "stdout",
     "output_type": "stream",
     "text": [
      "[5, 4, 3, 2, 1]\n"
     ]
    }
   ],
   "source": [
    "example = [1,2,3,4,5]\n",
    "reverse(example)"
   ]
  },
  {
   "cell_type": "markdown",
   "id": "4d9021b2",
   "metadata": {},
   "source": [
    "### 9] Write a Python program to find the sum of all elements in a list."
   ]
  },
  {
   "cell_type": "code",
   "execution_count": 5,
   "id": "1e885469",
   "metadata": {},
   "outputs": [],
   "source": [
    "def sum_of_elements(list):\n",
    "    a = 0\n",
    "    for i in list:\n",
    "        a = a + i\n",
    "    return a\n",
    "    \n",
    "#     total = sum(list)\n",
    "#     return total"
   ]
  },
  {
   "cell_type": "code",
   "execution_count": 6,
   "id": "5c5d5cb9",
   "metadata": {},
   "outputs": [
    {
     "data": {
      "text/plain": [
       "15"
      ]
     },
     "execution_count": 6,
     "metadata": {},
     "output_type": "execute_result"
    }
   ],
   "source": [
    "example = [1,2,3,4,5]\n",
    "sum_of_elements(example)"
   ]
  },
  {
   "cell_type": "markdown",
   "id": "13728a3b",
   "metadata": {},
   "source": [
    "### 10] Write a function to check if a given number is prime."
   ]
  },
  {
   "cell_type": "code",
   "execution_count": 12,
   "id": "e8c7234d",
   "metadata": {},
   "outputs": [],
   "source": [
    "def prime(num):\n",
    "    \n",
    "    if num == 1:\n",
    "        return False\n",
    "    else:\n",
    "        for i in range(2, int(num**0.5)+1):\n",
    "            if num % i == 0:\n",
    "                return False\n",
    "    return True\n",
    "\n",
    "# (num**0.5) is used to find squareroot, +1 is used to inclue squareroot also"
   ]
  },
  {
   "cell_type": "code",
   "execution_count": 13,
   "id": "f3f44092",
   "metadata": {},
   "outputs": [
    {
     "name": "stdout",
     "output_type": "stream",
     "text": [
      "Enter the number: 5\n",
      "5 is a prime number\n"
     ]
    }
   ],
   "source": [
    "n = int(input(\"Enter the number: \"))\n",
    "\n",
    "if prime(n):\n",
    "    print(n, \"is a prime number\")\n",
    "else:\n",
    "    print(n, \"is not a prime number\")"
   ]
  },
  {
   "cell_type": "markdown",
   "id": "2e89707b",
   "metadata": {},
   "source": [
    "### 11] Implement a Python function to reverse a string."
   ]
  },
  {
   "cell_type": "code",
   "execution_count": 18,
   "id": "bb421b0b",
   "metadata": {},
   "outputs": [],
   "source": [
    "def string_reverse(word):\n",
    "    reversed_word = word[::-1]  # Using string slicing to reverse the word\n",
    "    return reversed_word"
   ]
  },
  {
   "cell_type": "code",
   "execution_count": 19,
   "id": "7387611e",
   "metadata": {},
   "outputs": [
    {
     "name": "stdout",
     "output_type": "stream",
     "text": [
      "Enter the String: laxman\n"
     ]
    },
    {
     "data": {
      "text/plain": [
       "'namxal'"
      ]
     },
     "execution_count": 19,
     "metadata": {},
     "output_type": "execute_result"
    }
   ],
   "source": [
    "string = input(\"Enter the String: \")\n",
    "string_reverse(string)"
   ]
  },
  {
   "cell_type": "markdown",
   "id": "cfd4afe4",
   "metadata": {},
   "source": [
    "### 12] Write a program to find the factorial of a given number."
   ]
  },
  {
   "cell_type": "code",
   "execution_count": 24,
   "id": "29bf170e",
   "metadata": {},
   "outputs": [],
   "source": [
    "def factorial(num):\n",
    "    result = 1\n",
    "    \n",
    "    for i in range(1, num+1):\n",
    "        result = result * i\n",
    "    return result"
   ]
  },
  {
   "cell_type": "code",
   "execution_count": 25,
   "id": "e2e22bef",
   "metadata": {},
   "outputs": [
    {
     "name": "stdout",
     "output_type": "stream",
     "text": [
      "Enter the number: 4\n"
     ]
    },
    {
     "data": {
      "text/plain": [
       "24"
      ]
     },
     "execution_count": 25,
     "metadata": {},
     "output_type": "execute_result"
    }
   ],
   "source": [
    "n = int(input(\"Enter the number: \"))\n",
    "factorial(n)"
   ]
  },
  {
   "cell_type": "markdown",
   "id": "6d677443",
   "metadata": {},
   "source": [
    "### 13] Write a Python program to find the maximum and minimum elements in a list."
   ]
  },
  {
   "cell_type": "code",
   "execution_count": 35,
   "id": "17f28dd7",
   "metadata": {},
   "outputs": [],
   "source": [
    "def min_max(list):\n",
    "    \n",
    "    n = len(list)\n",
    "    \n",
    "    for i in range(n):\n",
    "        min = i\n",
    "        \n",
    "        for j in range(i+1,n):\n",
    "            if list[j] < list[min]:\n",
    "                min = j\n",
    "                \n",
    "        temp = list[i]\n",
    "        list[i] = list[min]\n",
    "        list[min] = temp\n",
    "    \n",
    "    print(\"The maximum element is: \", list[n-1])\n",
    "    print(\"The minimum element is: \", list[0])"
   ]
  },
  {
   "cell_type": "code",
   "execution_count": 36,
   "id": "49881410",
   "metadata": {},
   "outputs": [
    {
     "name": "stdout",
     "output_type": "stream",
     "text": [
      "The maximum element is:  9\n",
      "The minimum element is:  1\n"
     ]
    }
   ],
   "source": [
    "example = [1,5,8,9,3,2,6,7]\n",
    "min_max(example)"
   ]
  },
  {
   "cell_type": "markdown",
   "id": "e4add475",
   "metadata": {},
   "source": [
    "### 14] Implement a Python function to count the number of words in a string."
   ]
  },
  {
   "cell_type": "code",
   "execution_count": 43,
   "id": "7ff9159c",
   "metadata": {},
   "outputs": [],
   "source": [
    "def count_words(sentence):\n",
    "    result = sentence.split()\n",
    "    return len(result)"
   ]
  },
  {
   "cell_type": "code",
   "execution_count": 44,
   "id": "49049637",
   "metadata": {},
   "outputs": [
    {
     "name": "stdout",
     "output_type": "stream",
     "text": [
      "Enter the string: I am completing the task Pratiksha has given me\n"
     ]
    },
    {
     "data": {
      "text/plain": [
       "9"
      ]
     },
     "execution_count": 44,
     "metadata": {},
     "output_type": "execute_result"
    }
   ],
   "source": [
    "string = input(\"Enter the string: \")\n",
    "count_words(string)"
   ]
  },
  {
   "cell_type": "markdown",
   "id": "17e5d112",
   "metadata": {},
   "source": [
    "### 15] Write a program to calculate the Fibonacci sequence up to a given number."
   ]
  },
  {
   "cell_type": "code",
   "execution_count": 51,
   "id": "16649643",
   "metadata": {},
   "outputs": [],
   "source": [
    "def fibonacci(num):\n",
    "    sequence = []\n",
    "    \n",
    "    if num==1:\n",
    "        sequence.append(0)\n",
    "    elif num==2:\n",
    "        sequence.append(1)\n",
    "    else:\n",
    "        sequence = [0,1]\n",
    "        while len(sequence) <= num:\n",
    "            result = sequence[-1] + sequence[-2]\n",
    "            sequence.append(result)\n",
    "    \n",
    "    return sequence\n",
    "        "
   ]
  },
  {
   "cell_type": "code",
   "execution_count": 52,
   "id": "8a41088c",
   "metadata": {},
   "outputs": [
    {
     "name": "stdout",
     "output_type": "stream",
     "text": [
      "Enter the number: 5\n"
     ]
    },
    {
     "data": {
      "text/plain": [
       "[0, 1, 1, 2, 3, 5]"
      ]
     },
     "execution_count": 52,
     "metadata": {},
     "output_type": "execute_result"
    }
   ],
   "source": [
    "n = int(input(\"Enter the number: \"))\n",
    "fibonacci(n)"
   ]
  },
  {
   "cell_type": "code",
   "execution_count": 50,
   "id": "048fe22f",
   "metadata": {},
   "outputs": [
    {
     "name": "stdout",
     "output_type": "stream",
     "text": [
      "6\n"
     ]
    }
   ],
   "source": [
    "list = [1,2,3,4,5,6]\n",
    "print(list[-1])"
   ]
  },
  {
   "cell_type": "markdown",
   "id": "79af20bf",
   "metadata": {},
   "source": [
    "### 16] List = [10,20,30,40] find missing numbers from the list in python. \n",
    "### Output:                                                                                       Missing numbers: [11, 12, 13, 14, 15, 16, 17, 18, 19, 21, 22, 23, 24, 25, 26, 27, 28, 29, 31, 32, 33, 34, 35, 36, 37, 38, 39]\n"
   ]
  },
  {
   "cell_type": "code",
   "execution_count": 11,
   "id": "128c3deb",
   "metadata": {},
   "outputs": [],
   "source": [
    "def missing_numbers(list):\n",
    "    result = []\n",
    "    n = len(list)\n",
    "    \n",
    "    for i in range(list[0], list[n-1]):\n",
    "        if i not in list and i not in result:\n",
    "            result.append(i)\n",
    "            \n",
    "    print(result)"
   ]
  },
  {
   "cell_type": "code",
   "execution_count": 12,
   "id": "1af9b7eb",
   "metadata": {},
   "outputs": [
    {
     "name": "stdout",
     "output_type": "stream",
     "text": [
      "[11, 12, 13, 14, 15, 16, 17, 18, 19, 21, 22, 23, 24, 25, 26, 27, 28, 29, 31, 32, 33, 34, 35, 36, 37, 38, 39]\n"
     ]
    }
   ],
   "source": [
    "example = [10,20,30,40]\n",
    "missing_numbers(example)"
   ]
  },
  {
   "cell_type": "markdown",
   "id": "cda6a96f",
   "metadata": {},
   "source": [
    "### 17] Write a function to find duplicate elements in list."
   ]
  },
  {
   "cell_type": "code",
   "execution_count": 14,
   "id": "3b772f7e",
   "metadata": {},
   "outputs": [],
   "source": [
    "def duplicates(list):\n",
    "    repeated = []\n",
    "    unique = []\n",
    "    \n",
    "    for element in list:\n",
    "        if element in unique:\n",
    "            repeated.append(element)\n",
    "        else:\n",
    "            unique.append(element)\n",
    "            \n",
    "    return repeated"
   ]
  },
  {
   "cell_type": "code",
   "execution_count": 15,
   "id": "03f13d45",
   "metadata": {},
   "outputs": [
    {
     "data": {
      "text/plain": [
       "[2, 4, 1, 3]"
      ]
     },
     "execution_count": 15,
     "metadata": {},
     "output_type": "execute_result"
    }
   ],
   "source": [
    "example = [1, 2, 3, 4, 2, 5, 4, 6, 7, 8, 1, 3]\n",
    "duplicates(example)"
   ]
  },
  {
   "cell_type": "markdown",
   "id": "92c00d81",
   "metadata": {},
   "source": [
    "### 18] How to read images files in python."
   ]
  },
  {
   "cell_type": "code",
   "execution_count": 2,
   "id": "b5d4b5d7",
   "metadata": {},
   "outputs": [],
   "source": [
    "from PIL import Image\n",
    "image = Image.open('Sidhu.jpg')\n",
    "image.show()"
   ]
  },
  {
   "cell_type": "markdown",
   "id": "74522614",
   "metadata": {},
   "source": [
    "### 19] Merge 2 Dataframes"
   ]
  },
  {
   "cell_type": "code",
   "execution_count": 2,
   "id": "0dfef4e1",
   "metadata": {},
   "outputs": [
    {
     "name": "stdout",
     "output_type": "stream",
     "text": [
      "   ID   Name  Age\n",
      "0   2  Alice   25\n",
      "1   3    Bob   30\n",
      "2   4   Jane   35\n"
     ]
    }
   ],
   "source": [
    "import pandas as pd\n",
    "\n",
    "df1 = pd.DataFrame({'ID': [1, 2, 3, 4], 'Name': ['John', 'Alice', 'Bob', 'Jane']})\n",
    "df2 = pd.DataFrame({'ID': [2, 3, 4, 5], 'Age': [25, 30, 35, 40]})\n",
    "\n",
    "merged_df = pd.merge(df1, df2, on='ID')\n",
    "print(merged_df)"
   ]
  },
  {
   "cell_type": "markdown",
   "id": "9050986f",
   "metadata": {},
   "source": [
    "### 20] Check whether the given number is a palindrome or not."
   ]
  },
  {
   "cell_type": "code",
   "execution_count": 6,
   "id": "9ca48155",
   "metadata": {},
   "outputs": [],
   "source": [
    "def palindrome(original):\n",
    "    n = original\n",
    "    reversed = 0\n",
    "\n",
    "    while n>0:\n",
    "        remainder = n % 10\n",
    "        reversed = reversed*10 + remainder\n",
    "        n = int(n/10)\n",
    "    \n",
    "    if reversed == original:\n",
    "        print('It is a Palindrome number')\n",
    "    else:\n",
    "        print('It is not a Palindrome number')"
   ]
  },
  {
   "cell_type": "code",
   "execution_count": 8,
   "id": "db9a57ce",
   "metadata": {},
   "outputs": [
    {
     "name": "stdout",
     "output_type": "stream",
     "text": [
      "It is not a Palindrome number\n"
     ]
    }
   ],
   "source": [
    "number = 134\n",
    "palindrome(number)"
   ]
  },
  {
   "cell_type": "markdown",
   "id": "0c9a9265",
   "metadata": {},
   "source": [
    "### 21] Reverse Array"
   ]
  },
  {
   "cell_type": "code",
   "execution_count": 3,
   "id": "0b117d10",
   "metadata": {},
   "outputs": [],
   "source": [
    "def reverse_array(arr):\n",
    "    n = len(arr)\n",
    "    result = []\n",
    "    \n",
    "    for i in range(n,0,-1):\n",
    "        result.append(arr[i-1])\n",
    "        \n",
    "    return result\n",
    "    "
   ]
  },
  {
   "cell_type": "code",
   "execution_count": 13,
   "id": "658865e2",
   "metadata": {},
   "outputs": [
    {
     "data": {
      "text/plain": [
       "[7, 6, 5, 4, 3, 2, 1]"
      ]
     },
     "execution_count": 13,
     "metadata": {},
     "output_type": "execute_result"
    }
   ],
   "source": [
    "arr = [1,2,3,4,5,6,7]\n",
    "\n",
    "start = 0\n",
    "end = len(arr)-1\n",
    "\n",
    "while start < end:\n",
    "    arr[start], arr[end] = arr[end], arr[start]\n",
    "    \n",
    "    start += 1\n",
    "    end -= 1\n",
    "\n",
    "arr"
   ]
  },
  {
   "cell_type": "code",
   "execution_count": 16,
   "id": "b841c2fc",
   "metadata": {},
   "outputs": [
    {
     "data": {
      "text/plain": [
       "[5, 4, 3, 2, 1]"
      ]
     },
     "execution_count": 16,
     "metadata": {},
     "output_type": "execute_result"
    }
   ],
   "source": [
    "arr = [1,2,3,4,5]\n",
    "arr[::-1]"
   ]
  },
  {
   "cell_type": "code",
   "execution_count": 15,
   "id": "3fd5460a",
   "metadata": {},
   "outputs": [
    {
     "data": {
      "text/plain": [
       "[6, 5, 4, 3, 2, 1]"
      ]
     },
     "execution_count": 15,
     "metadata": {},
     "output_type": "execute_result"
    }
   ],
   "source": [
    "arr = [1,2,3,4,5,6]\n",
    "reverse_array(arr)"
   ]
  },
  {
   "cell_type": "markdown",
   "id": "a11e5de7",
   "metadata": {},
   "source": [
    "### 22] Remove nth element "
   ]
  },
  {
   "cell_type": "code",
   "execution_count": 8,
   "id": "117c8ef3",
   "metadata": {},
   "outputs": [],
   "source": [
    "def remove_nth_element(arr, n):\n",
    "#     arr.pop(n)\n",
    "    \n",
    "    arr = arr[:n] + arr[n+1:]\n",
    "    return arr"
   ]
  },
  {
   "cell_type": "code",
   "execution_count": 9,
   "id": "1e0f80e9",
   "metadata": {},
   "outputs": [
    {
     "data": {
      "text/plain": [
       "[1, 2, 3, 5, 6]"
      ]
     },
     "execution_count": 9,
     "metadata": {},
     "output_type": "execute_result"
    }
   ],
   "source": [
    "arr = [1,2,3,4,5,6]\n",
    "remove_nth_element(arr, 3)"
   ]
  },
  {
   "cell_type": "markdown",
   "id": "0470014b",
   "metadata": {},
   "source": [
    "### 23] Print first 100 prime numbers after 1001"
   ]
  },
  {
   "cell_type": "code",
   "execution_count": 1,
   "id": "4339ee5a",
   "metadata": {},
   "outputs": [
    {
     "name": "stdout",
     "output_type": "stream",
     "text": [
      "1009, 1013, 1019, 1021, 1031, 1033, 1039, 1049, 1051, 1061, 1063, 1069, 1087, 1091, 1093, 1097, 1103, 1109, 1117, 1123, 1129, 1151, 1153, 1163, 1171, 1181, 1187, 1193, 1201, 1213, 1217, 1223, 1229, 1231, 1237, 1249, 1259, 1277, 1279, 1283, 1289, 1291, 1297, 1301, 1303, 1307, 1319, 1321, 1327, 1361, 1367, 1373, 1381, 1399, 1409, 1423, 1427, 1429, 1433, 1439, 1447, 1451, 1453, 1459, 1471, 1481, 1483, 1487, 1489, 1493, 1499, 1511, 1523, 1531, 1543, 1549, 1553, 1559, 1567, 1571, 1579, 1583, 1597, 1601, 1607, 1609, 1613, 1619, 1621, 1627, 1637, 1657, 1663, 1667, 1669, 1693, 1697, 1699, 1709, 1721, 1723, "
     ]
    }
   ],
   "source": [
    "def is_prime(n):\n",
    "    for i in range(2,((n//2)+1)):\n",
    "        if (n % i == 0):\n",
    "            return False\n",
    "    return True\n",
    "\n",
    "count = 0\n",
    "i = 1001\n",
    "\n",
    "while (count <= 100):\n",
    "    if is_prime(i):\n",
    "        print(i, end=', ')\n",
    "        count = count + 1\n",
    "    i = i + 1"
   ]
  },
  {
   "cell_type": "markdown",
   "id": "b0917a58",
   "metadata": {},
   "source": [
    "### 24] Find how many no of notes are required for given amount."
   ]
  },
  {
   "cell_type": "code",
   "execution_count": 7,
   "id": "6c314d46",
   "metadata": {},
   "outputs": [],
   "source": [
    "def find_notes(amt,available):\n",
    "    for i in available:\n",
    "        if amt >= i:\n",
    "            a = amt // i\n",
    "            print(f'Rs {i} : {a}')\n",
    "            amt = amt % i"
   ]
  },
  {
   "cell_type": "code",
   "execution_count": 9,
   "id": "1fe56eb4",
   "metadata": {},
   "outputs": [
    {
     "name": "stdout",
     "output_type": "stream",
     "text": [
      "Enter the amount: 2138\n",
      "Rs 500 : 4\n",
      "Rs 100 : 1\n",
      "Rs 20 : 1\n",
      "Rs 10 : 1\n",
      "Rs 5 : 1\n",
      "Rs 2 : 1\n",
      "Rs 1 : 1\n"
     ]
    }
   ],
   "source": [
    "amt = int(input('Enter the amount: '))\n",
    "available = [500, 200, 100, 50, 20, 10, 5, 2, 1]\n",
    "find_notes(amt,available)"
   ]
  },
  {
   "cell_type": "markdown",
   "id": "ce60bd86",
   "metadata": {},
   "source": [
    "### 25] Check if 3 numbers can form sides of a triangle."
   ]
  },
  {
   "cell_type": "code",
   "execution_count": 10,
   "id": "06887fea",
   "metadata": {},
   "outputs": [
    {
     "name": "stdout",
     "output_type": "stream",
     "text": [
      "Enter number 1: 2\n",
      "Enter number 2: 3\n",
      "Enter number 3: 7\n",
      "It does not form a triangle\n"
     ]
    }
   ],
   "source": [
    "n1 = int(input('Enter number 1: '))\n",
    "n2 = int(input('Enter number 2: '))\n",
    "n3 = int(input('Enter number 3: '))\n",
    "\n",
    "if ((n1>n2+n3) or (n2>n1+n3) or (n3>n1+n2)):\n",
    "    print('It does not form a triangle')\n",
    "else:\n",
    "    print('It forms a triangle')"
   ]
  },
  {
   "cell_type": "markdown",
   "id": "d6e6dd0d",
   "metadata": {},
   "source": [
    "### 26] abbcbad return most occurred letter. If 2 letters have max occurence return first letter."
   ]
  },
  {
   "cell_type": "code",
   "execution_count": 53,
   "id": "123c1cd6",
   "metadata": {},
   "outputs": [],
   "source": [
    "def mostOccurence(text):\n",
    "\n",
    "    result = {}\n",
    "    \n",
    "    for i in text:\n",
    "        if i not in result:\n",
    "            result[i] = 1\n",
    "        else:\n",
    "            result[i] = result[i] + 1\n",
    "            \n",
    "    max_val = 0\n",
    "    max_key = None\n",
    "    \n",
    "    for key, value in result.items():\n",
    "        if value > max_val:\n",
    "            max_val = value\n",
    "            max_key = key\n",
    "            \n",
    "    return max_key, max_val"
   ]
  },
  {
   "cell_type": "code",
   "execution_count": 57,
   "id": "5cc1af68",
   "metadata": {},
   "outputs": [
    {
     "data": {
      "text/plain": [
       "('b', 4)"
      ]
     },
     "execution_count": 57,
     "metadata": {},
     "output_type": "execute_result"
    }
   ],
   "source": [
    "mostOccurence('aaabbbb')"
   ]
  },
  {
   "cell_type": "markdown",
   "id": "130028a0",
   "metadata": {},
   "source": [
    "### 27] 1st Day 1 grain, 2nd day 2 grains, 3rd day 4 grains, how many grains in 64th day."
   ]
  },
  {
   "cell_type": "code",
   "execution_count": 20,
   "id": "210a019a",
   "metadata": {},
   "outputs": [
    {
     "name": "stdout",
     "output_type": "stream",
     "text": [
      "Day 1 : 1 grains.\n",
      "Day 2 : 2 grains.\n",
      "Day 3 : 4 grains.\n",
      "Day 4 : 8 grains.\n",
      "Day 5 : 16 grains.\n",
      "Day 6 : 32 grains.\n",
      "Day 7 : 64 grains.\n",
      "Day 8 : 128 grains.\n",
      "Day 9 : 256 grains.\n",
      "Day 10 : 512 grains.\n",
      "Day 11 : 1024 grains.\n",
      "Day 12 : 2048 grains.\n",
      "Day 13 : 4096 grains.\n",
      "Day 14 : 8192 grains.\n",
      "Day 15 : 16384 grains.\n",
      "Day 16 : 32768 grains.\n",
      "Day 17 : 65536 grains.\n",
      "Day 18 : 131072 grains.\n",
      "Day 19 : 262144 grains.\n",
      "Day 20 : 524288 grains.\n",
      "Day 21 : 1048576 grains.\n",
      "Day 22 : 2097152 grains.\n",
      "Day 23 : 4194304 grains.\n",
      "Day 24 : 8388608 grains.\n",
      "Day 25 : 16777216 grains.\n",
      "Day 26 : 33554432 grains.\n",
      "Day 27 : 67108864 grains.\n",
      "Day 28 : 134217728 grains.\n",
      "Day 29 : 268435456 grains.\n",
      "Day 30 : 536870912 grains.\n",
      "Day 31 : 1073741824 grains.\n",
      "Day 32 : 2147483648 grains.\n",
      "Day 33 : 4294967296 grains.\n",
      "Day 34 : 8589934592 grains.\n",
      "Day 35 : 17179869184 grains.\n",
      "Day 36 : 34359738368 grains.\n",
      "Day 37 : 68719476736 grains.\n",
      "Day 38 : 137438953472 grains.\n",
      "Day 39 : 274877906944 grains.\n",
      "Day 40 : 549755813888 grains.\n",
      "Day 41 : 1099511627776 grains.\n",
      "Day 42 : 2199023255552 grains.\n",
      "Day 43 : 4398046511104 grains.\n",
      "Day 44 : 8796093022208 grains.\n",
      "Day 45 : 17592186044416 grains.\n",
      "Day 46 : 35184372088832 grains.\n",
      "Day 47 : 70368744177664 grains.\n",
      "Day 48 : 140737488355328 grains.\n",
      "Day 49 : 281474976710656 grains.\n",
      "Day 50 : 562949953421312 grains.\n",
      "Day 51 : 1125899906842624 grains.\n",
      "Day 52 : 2251799813685248 grains.\n",
      "Day 53 : 4503599627370496 grains.\n",
      "Day 54 : 9007199254740992 grains.\n",
      "Day 55 : 18014398509481984 grains.\n",
      "Day 56 : 36028797018963968 grains.\n",
      "Day 57 : 72057594037927936 grains.\n",
      "Day 58 : 144115188075855872 grains.\n",
      "Day 59 : 288230376151711744 grains.\n",
      "Day 60 : 576460752303423488 grains.\n",
      "Day 61 : 1152921504606846976 grains.\n",
      "Day 62 : 2305843009213693952 grains.\n",
      "Day 63 : 4611686018427387904 grains.\n",
      "Day 64 : 9223372036854775808 grains.\n"
     ]
    }
   ],
   "source": [
    "for i in range(64):\n",
    "    result = 2**i\n",
    "    print(f'Day {i+1} : {result} grains.')"
   ]
  },
  {
   "cell_type": "markdown",
   "id": "f84a9d1b",
   "metadata": {},
   "source": [
    "### 28] A=1, B=2, c=3,......then XFD=?"
   ]
  },
  {
   "cell_type": "code",
   "execution_count": 35,
   "id": "d1c741a8",
   "metadata": {},
   "outputs": [
    {
     "name": "stdout",
     "output_type": "stream",
     "text": [
      "Enter String: XFD\n",
      "16384\n"
     ]
    }
   ],
   "source": [
    "str = input('Enter String: ').upper()\n",
    "\n",
    "n = len(str)\n",
    "result = 0\n",
    "\n",
    "for i in str:\n",
    "    a = ord(i) - 64\n",
    "    result = result + a * (26**(n-1))\n",
    "    n = n-1\n",
    "\n",
    "print(result)"
   ]
  },
  {
   "cell_type": "code",
   "execution_count": null,
   "id": "7d3aea53",
   "metadata": {},
   "outputs": [],
   "source": []
  }
 ],
 "metadata": {
  "kernelspec": {
   "display_name": "Python 3 (ipykernel)",
   "language": "python",
   "name": "python3"
  },
  "language_info": {
   "codemirror_mode": {
    "name": "ipython",
    "version": 3
   },
   "file_extension": ".py",
   "mimetype": "text/x-python",
   "name": "python",
   "nbconvert_exporter": "python",
   "pygments_lexer": "ipython3",
   "version": "3.10.9"
  }
 },
 "nbformat": 4,
 "nbformat_minor": 5
}
